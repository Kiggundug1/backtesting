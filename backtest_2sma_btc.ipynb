{
  "cells": [
    {
      "cell_type": "markdown",
      "source": [
        "**<h1>Setup and data processing<h1>**\n",
        "\n",
        "---\n",
        "\n"
      ],
      "metadata": {
        "id": "dcxb2PQtUE8V"
      }
    },
    {
      "cell_type": "markdown",
      "source": [
        "<h3>Package installation<h3>\n"
      ],
      "metadata": {
        "id": "Ni0tCgXTSQL9"
      }
    },
    {
      "cell_type": "code",
      "execution_count": null,
      "metadata": {
        "id": "FQpoFECiJiLG"
      },
      "outputs": [],
      "source": [
        "%pip install pandas\n",
        "%pip install python-binance\n",
        "%pip install ta\n",
        "%pip install matplotlib"
      ]
    },
    {
      "cell_type": "markdown",
      "metadata": {
        "id": "G3kKKxoL1xNo"
      },
      "source": [
        "<h3>Imports<h3>"
      ]
    },
    {
      "cell_type": "code",
      "execution_count": null,
      "metadata": {
        "id": "ix8j_V3gWOt5"
      },
      "outputs": [],
      "source": [
        "import pandas as pd\n",
        "from binance.client import Client\n",
        "import ta\n",
        "import matplotlib.pyplot as plt"
      ]
    },
    {
      "cell_type": "markdown",
      "metadata": {
        "id": "VLyBtxe4Xn6U"
      },
      "source": [
        "<h3>Coin Specs<h3>"
      ]
    },
    {
      "cell_type": "code",
      "execution_count": null,
      "metadata": {
        "id": "-Ox7M5AMXn6V"
      },
      "outputs": [],
      "source": [
        "symbol = \"BTCUSDT\"\n",
        "timeframe = \"1h\"\n",
        "starting_date = \"01 january 2017\""
      ]
    },
    {
      "cell_type": "markdown",
      "metadata": {
        "id": "BEmSeIfaXn6V"
      },
      "source": [
        "<h3>Binance data<h3>"
      ]
    },
    {
      "cell_type": "code",
      "execution_count": null,
      "metadata": {
        "id": "hjRUhkHYXn6W"
      },
      "outputs": [],
      "source": [
        "# download the coin info\n",
        "info = Client().get_historical_klines(symbol, timeframe, starting_date)"
      ]
    },
    {
      "cell_type": "code",
      "execution_count": null,
      "metadata": {
        "id": "I9G3zQHXXn6Y"
      },
      "outputs": [],
      "source": [
        "# storing it into a pandas data frame\n",
        "dl_data = pd.DataFrame(info, columns = ['timestamp', 'open', 'high', 'low', 'close', 'volume', 'close_time', 'quote_av', 'trades', 'tb_base_av', 'tb_quote_av', 'ignore' ])\n",
        "dl_data"
      ]
    },
    {
      "cell_type": "code",
      "execution_count": null,
      "metadata": {
        "id": "tHdt2dbeSIC9"
      },
      "outputs": [],
      "source": [
        "# copy of the dowloaded data \n",
        "data = dl_data.copy()"
      ]
    },
    {
      "cell_type": "code",
      "execution_count": null,
      "metadata": {
        "id": "mJkCWcgnXn6Z"
      },
      "outputs": [],
      "source": [
        "# keeping only the necessary columns\n",
        "data.drop(columns=data.columns.difference(['timestamp','open','close','high','low','volume']), inplace=True)\n",
        "data"
      ]
    },
    {
      "cell_type": "code",
      "execution_count": null,
      "metadata": {
        "id": "Ucg7jy-5Xn6a"
      },
      "outputs": [],
      "source": [
        "# formating the index\n",
        "data.set_index(data['timestamp'], inplace=True)\n",
        "data.index = pd.to_datetime(data.index, unit='ms')\n",
        "del data['timestamp']\n",
        "data"
      ]
    },
    {
      "cell_type": "code",
      "execution_count": null,
      "metadata": {
        "id": "QdaWQUkLXn6b"
      },
      "outputs": [],
      "source": [
        "type(data['open'][1])"
      ]
    },
    {
      "cell_type": "code",
      "execution_count": null,
      "metadata": {
        "id": "G3TB3BXTXn6b"
      },
      "outputs": [],
      "source": [
        "# formating the numbers\n",
        "data[\"close\"] = pd.to_numeric(data[\"close\"])\n",
        "data[\"high\"] = pd.to_numeric(data[\"high\"])\n",
        "data[\"low\"] = pd.to_numeric(data[\"low\"])\n",
        "data[\"open\"] = pd.to_numeric(data[\"open\"])"
      ]
    },
    {
      "cell_type": "code",
      "execution_count": null,
      "metadata": {
        "id": "OnxTI7cQXn6c"
      },
      "outputs": [],
      "source": [
        "type(data['open'][1])"
      ]
    },
    {
      "cell_type": "markdown",
      "metadata": {
        "id": "WF-auzhx2a0S"
      },
      "source": [
        "<h3>Indicators<h3>"
      ]
    },
    {
      "cell_type": "code",
      "execution_count": null,
      "metadata": {
        "id": "u9-_ogs6Ys_t"
      },
      "outputs": [],
      "source": [
        "data['MA-st'] = ta.trend.sma_indicator(data['close'], 200)\n",
        "data['MA-lt'] = ta.trend.sma_indicator(data['close'], 800)\n",
        "# data['MA-st'] = ta.trend.ema_indicator(data['close'], 200)\n",
        "# data['MA-lt'] = ta.trend.ema_indicator(data['close'], 800)\n",
        "\n",
        "data"
      ]
    },
    {
      "cell_type": "code",
      "execution_count": null,
      "metadata": {
        "id": "OVsBPMm6SIC_"
      },
      "outputs": [],
      "source": [
        "data.dropna(inplace=True)\n",
        "data"
      ]
    },
    {
      "cell_type": "markdown",
      "source": [
        "**<h1>Backtest<h1>**\n",
        "\n",
        "---"
      ],
      "metadata": {
        "id": "spLsnfE7VPXd"
      }
    },
    {
      "cell_type": "markdown",
      "metadata": {
        "id": "QWPklOAZ2fG-"
      },
      "source": [
        "<h3>Wallet<h3>"
      ]
    },
    {
      "cell_type": "code",
      "execution_count": null,
      "metadata": {
        "id": "EHrS5HNwZGJ8"
      },
      "outputs": [],
      "source": [
        "starting_usdt = 1000\n",
        "starting_coin = 0\n",
        "trading_fees = 0.001"
      ]
    },
    {
      "cell_type": "markdown",
      "source": [
        "<h3>Buy-Sell condition functions<h3>"
      ],
      "metadata": {
        "id": "gWPQerOHVZ1-"
      }
    },
    {
      "cell_type": "code",
      "execution_count": null,
      "metadata": {
        "id": "XigXi4AQXn6f"
      },
      "outputs": [],
      "source": [
        "def buy_condition(row):\n",
        "    if row['MA-st'] > row['MA-lt']:\n",
        "        return True\n",
        "    else:\n",
        "        return False\n",
        "    \n",
        "#     return row['MA-st'] > row['MA-lt']:\n",
        "\n",
        "\n",
        "def sell_condition(row):\n",
        "    if row['MA-st'] < row['MA-lt']:\n",
        "        return True\n",
        "    else:\n",
        "        return False"
      ]
    },
    {
      "cell_type": "markdown",
      "source": [
        "<h3>Backtest loop<h3>"
      ],
      "metadata": {
        "id": "l47iU_h7Vjyy"
      }
    },
    {
      "cell_type": "code",
      "execution_count": null,
      "metadata": {
        "id": "OhFGynkSXn6f"
      },
      "outputs": [],
      "source": [
        "usdt = starting_usdt\n",
        "coin = starting_coin\n",
        "trades = []\n",
        "wallet = []\n",
        "buyhold = []\n",
        "for index, row in data.iterrows():\n",
        "\n",
        "    value = row['close']\n",
        "\n",
        "    if buy_condition(row) and usdt > 0:\n",
        "        coin = usdt / value\n",
        "        coin = coin * (1 - trading_fees)\n",
        "#         coin *= 1 - trade_fees\n",
        "        usdt = 0\n",
        "        trades.append({'date':index, 'side':'buy', 'price':value, 'coin':coin, 'usdt':usdt, 'wallet':coin*value})\n",
        "        print(f\"Bought {symbol} at {value}$ on the {index}\")\n",
        "\n",
        "    if sell_condition(row) and coin > 0: \n",
        "        usdt = coin *  value\n",
        "        usdt = usdt * (1 - trading_fees)\n",
        "        coin = 0\n",
        "        trades.append({'date':index, 'side':'sell', 'price':value, 'coin':coin, 'usdt':usdt, 'wallet':usdt})\n",
        "        print(f\"Sold {symbol} at {value}$ on the {index}\")\n",
        "\n",
        "    if usdt == 0:\n",
        "        wallet.append(coin * value)\n",
        "    else:\n",
        "        wallet.append(usdt)\n",
        "\n",
        "    buyhold.append(starting_usdt / data[\"close\"].iloc[0] * value)\n"
      ]
    },
    {
      "cell_type": "code",
      "execution_count": null,
      "metadata": {
        "id": "ba4VWS-QXn6g"
      },
      "outputs": [],
      "source": [
        "trades = pd.DataFrame(trades, columns = ['date', 'side', 'price', 'coin', 'usdt', 'wallet'])\n",
        "trades = trades.round(2) #round numbers\n",
        "trades\n"
      ]
    },
    {
      "cell_type": "code",
      "execution_count": null,
      "metadata": {
        "id": "SdDj0EDNXn6g"
      },
      "outputs": [],
      "source": [
        "trades['side'].value_counts()"
      ]
    },
    {
      "cell_type": "markdown",
      "metadata": {
        "id": "AiJZXf662rG9"
      },
      "source": [
        "**<h1>Results<h1>**\n",
        "\n",
        "\n",
        "---\n",
        "\n"
      ]
    },
    {
      "cell_type": "code",
      "execution_count": null,
      "metadata": {
        "id": "ihXSgCneZqFD"
      },
      "outputs": [],
      "source": [
        "print(\n",
        "    \"\\nStarting amount: %s USDT\"\n",
        "    % (\n",
        "        \"{:0,.2f}\".format(starting_usdt),\n",
        "\n",
        "    )\n",
        ")\n",
        "print(\n",
        "    \"Buy-Hold: \\t %s USDT\\t (%s%% profit)\"\n",
        "    % (\n",
        "        \"{:0,.2f}\".format(buyhold[-1]),\n",
        "        \"{:0,.2f}\".format((buyhold[-1] / starting_usdt - 1) * 100),\n",
        "    )\n",
        ")\n",
        "print(\n",
        "    \"2-SMA: \\t\\t %s USDT\\t (%s%% profit)\"\n",
        "    % (\n",
        "        \"{:0,.2f}\".format(wallet[-1]),\n",
        "        \"{:0,.2f}\".format((wallet[-1] / starting_usdt - 1) * 100),\n",
        "    )\n",
        ")\n",
        "\n",
        "plt.figure(figsize=(10, 6))\n",
        "plt.plot(\n",
        "    data.index,\n",
        "    wallet,\n",
        "    label=\"Wallet\",\n",
        "    color=\"gold\",\n",
        ")\n",
        "plt.plot(\n",
        "    data.index,\n",
        "    buyhold,\n",
        "    label=\"Buy-Hold\",\n",
        "    color=\"purple\",\n",
        ")\n",
        "plt.legend(fontsize=18, loc=\"upper left\")\n",
        "plt.ylabel(\"Value [usdt]\", fontsize=20)\n",
        "plt.yticks(fontsize=14)\n",
        "plt.xlabel(\"Date\", fontsize=20)\n",
        "plt.xticks(fontsize=14)\n",
        "plt.tight_layout()"
      ]
    }
  ],
  "metadata": {
    "colab": {
      "collapsed_sections": [],
      "provenance": []
    },
    "kernelspec": {
      "display_name": "Python 3 (ipykernel)",
      "language": "python",
      "name": "python3"
    },
    "language_info": {
      "codemirror_mode": {
        "name": "ipython",
        "version": 3
      },
      "file_extension": ".py",
      "mimetype": "text/x-python",
      "name": "python",
      "nbconvert_exporter": "python",
      "pygments_lexer": "ipython3",
      "version": "3.10.6"
    }
  },
  "nbformat": 4,
  "nbformat_minor": 0
}