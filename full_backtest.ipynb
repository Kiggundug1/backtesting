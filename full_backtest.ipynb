{
 "cells": [
  {
   "cell_type": "markdown",
   "metadata": {
    "id": "dcxb2PQtUE8V"
   },
   "source": [
    "**<h1>Setup<h1>**\n",
    "\n",
    "---\n",
    "\n"
   ]
  },
  {
   "cell_type": "markdown",
   "metadata": {
    "id": "Ni0tCgXTSQL9"
   },
   "source": [
    "<h3>Package installation<h3>\n"
   ]
  },
  {
   "cell_type": "code",
   "execution_count": null,
   "metadata": {
    "colab": {
     "base_uri": "https://localhost:8080/"
    },
    "id": "FQpoFECiJiLG",
    "outputId": "57558e0e-aa6c-484c-be4d-ef75f96bbdd7"
   },
   "outputs": [],
   "source": [
    "%pip install pandas\n",
    "%pip install python-binance\n",
    "%pip install ta\n",
    "%pip install matplotlib\n",
    "%pip install numpy"
   ]
  },
  {
   "cell_type": "markdown",
   "metadata": {
    "id": "G3kKKxoL1xNo"
   },
   "source": [
    "<h3>Imports<h3>"
   ]
  },
  {
   "cell_type": "code",
   "execution_count": null,
   "metadata": {
    "id": "ix8j_V3gWOt5"
   },
   "outputs": [],
   "source": [
    "import sys\n",
    "import numpy as np\n",
    "import pandas as pd\n",
    "import matplotlib.pyplot as plt\n",
    "import ta\n",
    "from binance.client import Client"
   ]
  },
  {
   "cell_type": "markdown",
   "metadata": {
    "id": "Abb1eUJ_Qmcl"
   },
   "source": [
    "**<h1>Inputs<h1>**\n",
    "\n",
    "---\n",
    "\n"
   ]
  },
  {
   "cell_type": "markdown",
   "metadata": {
    "id": "VLyBtxe4Xn6U"
   },
   "source": [
    "<h3>Asset<h3>"
   ]
  },
  {
   "cell_type": "code",
   "execution_count": null,
   "metadata": {
    "id": "-Ox7M5AMXn6V"
   },
   "outputs": [],
   "source": [
    "name_base = \"BTC\"\n",
    "name_quote = \"USDT\""
   ]
  },
  {
   "cell_type": "markdown",
   "metadata": {
    "id": "oES_jd7_Qwgi"
   },
   "source": [
    "<h3>Data<h3>"
   ]
  },
  {
   "cell_type": "code",
   "execution_count": null,
   "metadata": {
    "id": "YKmhAS0oRSKT"
   },
   "outputs": [],
   "source": [
    "timeframe = \"1d\"\n",
    "starting_date_backtest = \"01 january 2019\"\n",
    "ending_date_backtest =  \"01 january 2022\"\n",
    "starting_date_dl = \"01 january 2018\"\n",
    "ending_date_dl = \"01 january 2022\""
   ]
  },
  {
   "cell_type": "markdown",
   "metadata": {
    "id": "ZEUKrxLKRkDC"
   },
   "source": [
    "<h3>Portfolio<h3>"
   ]
  },
  {
   "cell_type": "code",
   "execution_count": null,
   "metadata": {
    "id": "e_RajxXLRxTB"
   },
   "outputs": [],
   "source": [
    "initial_capital = 1000 # in quote\n",
    "exposure = 2           # position size in percent\n",
    "# exposure = 'all'       # use this instead if you want 100% of your portfolio to be used for each trade\n",
    "trade_fees = 0.1       # in percent\n",
    "leverage = 5"
   ]
  },
  {
   "cell_type": "markdown",
   "metadata": {
    "id": "4w2eRfduRkWh"
   },
   "source": [
    "<h3>Ignores<h3>"
   ]
  },
  {
   "cell_type": "code",
   "execution_count": null,
   "metadata": {
    "id": "9PEt-7ltR730"
   },
   "outputs": [],
   "source": [
    "ignore_shorts = False\n",
    "ignore_longs = False\n",
    "\n",
    "ignore_tp = False\n",
    "ignore_sl = False\n",
    "ignore_exit = False"
   ]
  },
  {
   "cell_type": "markdown",
   "metadata": {
    "id": "spLsnfE7VPXd"
   },
   "source": [
    "**<h1>\n",
    "Download Data<h1>**\n",
    "\n",
    "---"
   ]
  },
  {
   "cell_type": "code",
   "execution_count": null,
   "metadata": {
    "id": "l-R5lRhhSUmY"
   },
   "outputs": [],
   "source": [
    "def download_data(name_base, name_quote, timeframe, starting_date, ending_date):\n",
    "    info = Client().get_historical_klines(name_base+name_quote, timeframe, starting_date, ending_date)\n",
    "    data = pd.DataFrame(info, columns=['timestamp', 'open', 'high', 'low', 'close', 'volume', 'close_time', 'quote_av', 'trades', 'tb_base_av', 'tb_quote_av', 'ignore'])\n",
    "    data.drop(columns=data.columns.difference(['timestamp', 'open', 'high', 'low', 'close', 'volume']), inplace=True)\n",
    "    data['timestamp'] = pd.to_datetime(data['timestamp'], unit='ms')\n",
    "    data['open'] = pd.to_numeric(data['open'])\n",
    "    data['high'] = pd.to_numeric(data['high'])\n",
    "    data['low'] = pd.to_numeric(data['low'])\n",
    "    data['volume'] = pd.to_numeric(data['volume'])\n",
    "    data['close'] = pd.to_numeric(data['close'])\n",
    "    return data"
   ]
  },
  {
   "cell_type": "code",
   "execution_count": null,
   "metadata": {
    "colab": {
     "base_uri": "https://localhost:8080/",
     "height": 364
    },
    "id": "YnvF90QJSbm1",
    "outputId": "d0094daf-9d2a-4686-80ee-c0ef3a29448f"
   },
   "outputs": [],
   "source": [
    "data_dl = download_data(name_base, name_quote, timeframe, starting_date_dl, ending_date_dl)\n",
    "data_dl"
   ]
  },
  {
   "cell_type": "markdown",
   "metadata": {
    "id": "F7wlCHRvS01O"
   },
   "source": [
    "**<h1>Strategy<h1>**\n",
    "\n",
    "---"
   ]
  },
  {
   "cell_type": "code",
   "execution_count": null,
   "metadata": {
    "id": "w4l36OMnS6tu"
   },
   "outputs": [],
   "source": [
    "def compute_indicators(data): # check https://technical-analysis-library-in-python.readthedocs.io/en/latest/ta.html\n",
    "    data['EMAf'] = ta.trend.ema_indicator(data['close'], 10)\n",
    "    data['EMAs'] = ta.trend.ema_indicator(data['close'], 30)\n",
    "    data['Trend'] = ta.trend.sma_indicator(data['close'], 50)\n",
    "    data['RSI'] = ta.momentum.rsi(data['close'])\n",
    "    data['ATR'] = ta.volatility.average_true_range(data['high'], data['low'], data['close'], window=14)\n",
    "\n",
    "    # MACD = ta.trend.MACD(data['close'], window_slow=26, window_fast=12, window_sign=9)\n",
    "    # data['MACD'] = MACD.macd()\n",
    "    # data['MACD_histo'] = MACD.macd_diff()\n",
    "    # data['MACD_signal'] = MACD.macd_signal()\n",
    "\n",
    "    # BB = ta.volatility.BollingerBands(close=data['close'], window=100, window_dev=2)\n",
    "    # data[\"BB_lower\"] = BB.bollinger_lband()\n",
    "    # data[\"BB_upper\"] = BB.bollinger_hband()\n",
    "    # data[\"BB_avg\"] = BB.bollinger_mavg()\n",
    "\n",
    "    return data"
   ]
  },
  {
   "cell_type": "code",
   "execution_count": null,
   "metadata": {
    "id": "Ubd_BB_USl2-"
   },
   "outputs": [],
   "source": [
    "def prepare_data(data, starting_date, ending_date):\n",
    "    data2 = data.copy()\n",
    "    data2 = compute_indicators(data2)\n",
    "    data2 = data2[(data2['timestamp'] > starting_date + ' 00:00:00') & (data2['timestamp'] < ending_date + ' 00:00:00')]\n",
    "    data2.dropna(inplace=True)\n",
    "    return data2"
   ]
  },
  {
   "cell_type": "code",
   "execution_count": null,
   "metadata": {
    "id": "fFPjyukjTDa7"
   },
   "outputs": [],
   "source": [
    "data = prepare_data(data_dl, starting_date_backtest, ending_date_backtest)\n",
    "data"
   ]
  },
  {
   "cell_type": "markdown",
   "metadata": {
    "id": "93cmN-VcSJGf"
   },
   "source": [
    "<h3>Longs<h3>"
   ]
  },
  {
   "cell_type": "code",
   "execution_count": null,
   "metadata": {
    "id": "y4fLfGswTQVs"
   },
   "outputs": [],
   "source": [
    "def check_long_entry_condition(row, previous_row):\n",
    "    return row['close'] > row['Trend'] and row['EMAf'] > row['EMAs'] and previous_row['EMAf'] < previous_row['EMAs'] and row['RSI'] < 70\n",
    "\n",
    "\n",
    "def check_long_exit_condition(row, previous_row):\n",
    "    return row['EMAf'] < row['EMAs'] and previous_row['EMAf'] > previous_row['EMAs']\n",
    "\n",
    "\n",
    "def compute_long_sl_level(row, entry_price):\n",
    "    return entry_price - 2 * row['ATR']\n",
    "\n",
    "\n",
    "def compute_long_tp_level(row, entry_price, stop_loss_price):\n",
    "    risk_reward_ratio = 4\n",
    "    return entry_price * (1 + risk_reward_ratio * (1 - stop_loss_price / entry_price))\n",
    "    # return row['open'] * 1.1"
   ]
  },
  {
   "cell_type": "markdown",
   "metadata": {
    "id": "lHa8jM6wSJN0"
   },
   "source": [
    "<h3>Shorts<h3>"
   ]
  },
  {
   "cell_type": "code",
   "execution_count": null,
   "metadata": {
    "id": "_JcIMhvOTVBQ"
   },
   "outputs": [],
   "source": [
    "def check_short_entry_condition(row, previous_row):\n",
    "    return row['close'] < row['Trend'] and row['EMAf'] < row['EMAs'] and previous_row['EMAf'] > previous_row['EMAs'] and row['RSI'] > 30\n",
    "\n",
    "\n",
    "def check_short_exit_condition(row, previous_row):\n",
    "    return row['EMAf'] > row['EMAs'] and previous_row['EMAf'] < previous_row['EMAs']\n",
    "\n",
    "\n",
    "def compute_short_sl_level(row, entry_price):\n",
    "    return entry_price + 2 * row['ATR']\n",
    "\n",
    "\n",
    "def compute_short_tp_level(row, entry_price, stop_loss_price):\n",
    "    risk_reward_ratio = 4\n",
    "    return entry_price * (1 - risk_reward_ratio * (stop_loss_price / entry_price - 1))"
   ]
  },
  {
   "cell_type": "markdown",
   "metadata": {
    "id": "XmF1hYyMTcfB"
   },
   "source": [
    "**<h1>Core Functions<h1>**\n",
    "\n",
    "---"
   ]
  },
  {
   "cell_type": "code",
   "execution_count": null,
   "metadata": {
    "id": "G8cHv-e9Tytl"
   },
   "outputs": [],
   "source": [
    "def calculate_position_size(balance, exposure, entry_price, stop_loss_price):\n",
    "    if exposure == 'all':\n",
    "        return balance\n",
    "    risked_amount = balance * (exposure / 100)\n",
    "    position = risked_amount * entry_price / abs(entry_price - stop_loss_price)\n",
    "    return min(balance, position)\n",
    "\n",
    "\n",
    "def calculate_liquidation_price(price, leverage, order_type):\n",
    "        if order_type == 'long':\n",
    "            return price * (1 - 1 / leverage)\n",
    "        elif order_type == 'short':\n",
    "            return price * (1 + 1 / leverage)\n",
    "\n",
    "\n",
    "def calculate_pnl(entry_price, exit_price, quantity, order_type):\n",
    "    if order_type == 'long':\n",
    "        return (exit_price - entry_price) * quantity\n",
    "    elif order_type == 'short':\n",
    "        return (entry_price - exit_price) * quantity"
   ]
  },
  {
   "cell_type": "code",
   "execution_count": null,
   "metadata": {
    "id": "vNk2TyQqT8QO"
   },
   "outputs": [],
   "source": [
    "def record_order(timestamp, type, price, amount, pnl, wallet, fee, orders):\n",
    "    order = {\n",
    "        'timestamp': timestamp,\n",
    "        'type': type,\n",
    "        'amount': amount,\n",
    "        'fee': fee,\n",
    "        'pnl': pnl,\n",
    "        'wallet': wallet,\n",
    "    }\n",
    "    orders.append(order)\n",
    "    print(f\"{type} at {price} {name_quote} on {timestamp}, amount = {round(amount,2)} {name_quote}, pnl = {round(pnl,2)} {name_quote}, wallet = {round(wallet,2)} {name_quote}\")"
   ]
  },
  {
   "cell_type": "code",
   "execution_count": null,
   "metadata": {
    "id": "HyqOw-n0UF_K"
   },
   "outputs": [],
   "source": [
    "def run_backtest(data):\n",
    "\n",
    "    # Initialize variables\n",
    "    orders = []\n",
    "    order_in_progress = None\n",
    "    last_ath = 0\n",
    "    sl_price = 0\n",
    "    tp_price = 0\n",
    "    long_liquidation_price = 0\n",
    "    short_liquidation_price = 1e10\n",
    "    wallet = initial_capital\n",
    "    data['realised_pnl'] = ''\n",
    "    data['unrealised_pnl'] = ''\n",
    "    data['hodl'] = ''\n",
    "    data['drawdown'] = ''\n",
    "    previous_row = data.iloc[0]\n",
    "\n",
    "\n",
    "    # Go through data and make trades\n",
    "    for index, row in data.iterrows():\n",
    "        price = row['close']\n",
    "\n",
    "\n",
    "        # check if it is time to close a long\n",
    "        if order_in_progress == 'long' and not ignore_longs:\n",
    "            if row['low'] < long_liquidation_price:\n",
    "                print(f' /!\\ Your long was liquidated on the {row[\"timestamp\"]} (price = {long_liquidation_price} {name_quote})')\n",
    "                sys.exit()\n",
    "\n",
    "            elif not ignore_sl and row['low'] <= sl_price:\n",
    "                pnl = calculate_pnl(entry_price, sl_price, quantity, order_in_progress)\n",
    "                fee_exit = quantity * sl_price * trade_fees / 100\n",
    "                wallet += position - fee_entry + pnl - fee_exit\n",
    "                record_order(row['timestamp'], 'long sl', sl_price, 0, pnl - fee_exit - fee_entry, wallet, fee_exit, orders)\n",
    "                order_in_progress = None\n",
    "\n",
    "            elif not ignore_tp and row['high'] >= tp_price:\n",
    "                pnl = calculate_pnl(entry_price, tp_price, quantity, order_in_progress)\n",
    "                fee_exit = quantity * tp_price * trade_fees / 100\n",
    "                wallet += position - fee_entry + pnl - fee_exit\n",
    "                record_order(row['timestamp'], 'long tp', tp_price, 0, pnl - fee_exit - fee_entry, wallet, fee_exit, orders)\n",
    "                order_in_progress = None\n",
    "\n",
    "            elif not ignore_exit and check_long_exit_condition(row, previous_row):\n",
    "                pnl = calculate_pnl(entry_price, price, quantity, order_in_progress)\n",
    "                fee_exit = quantity * price * trade_fees / 100\n",
    "                wallet += position - fee_entry + pnl - fee_exit\n",
    "                record_order(row['timestamp'], 'long exit', price, 0, pnl - fee_exit - fee_entry, wallet, fee_exit, orders)\n",
    "                order_in_progress = None\n",
    "\n",
    "            if wallet > last_ath:\n",
    "                last_ath = wallet\n",
    "\n",
    "\n",
    "        # check if it is time to close a short\n",
    "        elif order_in_progress == 'short' and not ignore_shorts:\n",
    "            if row['high'] > short_liquidation_price:\n",
    "                print(f' /!\\ Your short was liquidated on the {row[\"timestamp\"]} (price = {short_liquidation_price} {name_quote})')\n",
    "                sys.exit()\n",
    "\n",
    "            elif not ignore_sl and row['high'] >= sl_price:\n",
    "                pnl = calculate_pnl(entry_price, sl_price, quantity, order_in_progress)\n",
    "                fee_exit = quantity * sl_price * trade_fees / 100\n",
    "                wallet += position - fee_entry + pnl - fee_exit\n",
    "                record_order(row['timestamp'], 'short sl', sl_price, 0, pnl - fee_exit - fee_entry, wallet, fee_exit, orders)\n",
    "                order_in_progress = None\n",
    "\n",
    "            elif not ignore_tp and row['low'] <= tp_price:\n",
    "                pnl = calculate_pnl(entry_price, tp_price, quantity, order_in_progress)\n",
    "                fee_exit = quantity * tp_price * trade_fees / 100\n",
    "                wallet += position - fee_entry + pnl - fee_exit\n",
    "                record_order(row['timestamp'], 'short tp', tp_price, 0, pnl - fee_exit - fee_entry, wallet, fee_exit, orders)\n",
    "                order_in_progress = None\n",
    "\n",
    "            elif not ignore_exit and check_short_exit_condition(row, previous_row):\n",
    "                pnl = calculate_pnl(entry_price, price, quantity, order_in_progress)\n",
    "                fee_exit = quantity * price * trade_fees / 100\n",
    "                wallet += position - fee_entry + pnl - fee_exit\n",
    "                record_order(row['timestamp'], 'short exit', price, 0, pnl - fee_exit - fee_entry, wallet, fee_exit, orders)\n",
    "                order_in_progress = None\n",
    "\n",
    "            if wallet > last_ath:\n",
    "                last_ath = wallet\n",
    "\n",
    "\n",
    "        # check it is time to enter a long\n",
    "        if not ignore_longs and order_in_progress == None:\n",
    "            if check_long_entry_condition(row, previous_row):\n",
    "                order_in_progress = 'long'\n",
    "                if not ignore_sl:\n",
    "                    sl_price = compute_long_sl_level(row, price)\n",
    "                if not ignore_tp:\n",
    "                    tp_price = compute_long_tp_level(row, price, sl_price)\n",
    "                entry_price = price\n",
    "                position = calculate_position_size(wallet, exposure, price, sl_price)\n",
    "                amount = position * leverage\n",
    "                fee_entry = amount * trade_fees / 100\n",
    "                quantity = (amount - fee_entry) / price\n",
    "                long_liquidation_price = calculate_liquidation_price(price, leverage, order_in_progress)\n",
    "                if wallet > last_ath:\n",
    "                    last_ath = wallet\n",
    "\n",
    "                wallet -= position\n",
    "                record_order(row['timestamp'], 'long entry', price, amount-fee_entry, -fee_entry, wallet, fee_entry, orders)\n",
    "\n",
    "\n",
    "        # check if it is time to enter a short\n",
    "        if not ignore_shorts and order_in_progress == None:\n",
    "            if check_short_entry_condition(row, previous_row):\n",
    "                order_in_progress = 'short'\n",
    "                if not ignore_sl:\n",
    "                    sl_price = compute_short_sl_level(row, price)\n",
    "                if not ignore_tp:\n",
    "                    tp_price = compute_short_tp_level(row, price, sl_price)\n",
    "                entry_price = price\n",
    "                position = calculate_position_size(wallet, exposure, price, sl_price)\n",
    "                amount = position * leverage\n",
    "                fee_entry = amount * trade_fees / 100\n",
    "                quantity = (amount - fee_entry) / price\n",
    "                short_liquidation_price = calculate_liquidation_price(price, leverage, order_in_progress)\n",
    "                wallet -= position\n",
    "                record_order(row['timestamp'], 'short entry', price, amount-fee_entry, -fee_entry, wallet, fee_entry, orders)\n",
    "\n",
    "\n",
    "        # updating wallet info\n",
    "        data.at[index, 'realised_pnl'] = wallet\n",
    "        data.at[index, 'unrealised_pnl'] = data.at[index, 'realised_pnl']\n",
    "        if order_in_progress != None:\n",
    "            data.at[index, 'unrealised_pnl'] += position + calculate_pnl(entry_price, price, quantity, order_in_progress) #- fee\n",
    "        data.at[index, 'hodl'] = initial_capital / data[\"close\"].iloc[0] * price\n",
    "        data.at[index, 'drawdown'] = (data.at[index, 'unrealised_pnl'] - last_ath) / last_ath if last_ath else 0\n",
    "\n",
    "        previous_row = row\n",
    "\n",
    "    return data, orders"
   ]
  },
  {
   "cell_type": "markdown",
   "metadata": {
    "id": "sBhyHAFlUWXo"
   },
   "source": [
    "**<h1>Backtest<h1>**\n",
    "\n",
    "---"
   ]
  },
  {
   "cell_type": "markdown",
   "metadata": {
    "id": "Cqrd41wNSJRW"
   },
   "source": [
    "<h3>Run<h3>"
   ]
  },
  {
   "cell_type": "code",
   "execution_count": null,
   "metadata": {
    "id": "5a2mV43YUgsj"
   },
   "outputs": [],
   "source": [
    "data, backtest_orders = run_backtest(data)"
   ]
  },
  {
   "cell_type": "markdown",
   "metadata": {
    "id": "UYxUw_-NSJUq"
   },
   "source": [
    "<h3>Analysis<h3>"
   ]
  },
  {
   "cell_type": "code",
   "execution_count": null,
   "metadata": {
    "id": "jFWDuCjSUrIi"
   },
   "outputs": [],
   "source": [
    "\n",
    "## Profits\n",
    "show_unrealised = True\n",
    "show_realised = False\n",
    "show_hodl = False\n",
    "\n",
    "profits_bot_realised = ((data['realised_pnl'] - initial_capital)/initial_capital) * 100\n",
    "profits_bot_unrealised = ((data['unrealised_pnl'] - initial_capital)/initial_capital) * 100\n",
    "profits_hodl = ((data['hodl'] - data.iloc[0]['hodl'])/data.iloc[0]['hodl']) * 100\n",
    "\n",
    "fig, (ax1, ax2) = plt.subplots(2, 1, figsize=(10, 10))\n",
    "if show_unrealised:\n",
    "    ax1.plot(data['timestamp'], profits_bot_unrealised, color='gold', label='Bot')\n",
    "if show_realised:\n",
    "    ax1.plot(data['timestamp'], profits_bot_realised, color='gold', label='Bot (realised)', ls= '--')\n",
    "if show_hodl:\n",
    "    ax1.plot(data['timestamp'], profits_hodl, color='purple', label='Hodl')\n",
    "ax1.set_title('Net Profits', fontsize=20)\n",
    "ax1.set_ylabel('Net Profits (%)', fontsize=18)\n",
    "ax1.set_xticklabels([])\n",
    "ax1.legend(fontsize=16)\n",
    "if show_unrealised:\n",
    "    ax2.plot(data['timestamp'], data['unrealised_pnl'], color='gold', label='Bot')\n",
    "if show_realised:\n",
    "    ax2.plot(data['timestamp'], data['realised_pnl'], color='gold', label='Bot (realised)', ls= '--')\n",
    "if show_hodl:\n",
    "    ax2.plot(data['timestamp'], data['hodl'], color='purple', label='Hodl')\n",
    "ax2.set_xlabel('Period', fontsize=18)\n",
    "ax2.set_ylabel('Net Profits (' + name_quote + ')', fontsize=18)\n",
    "ax2.tick_params(axis='both', which='major', labelsize=12, rotation = 45)\n",
    "\n",
    "print(f\" \\n\\n      ** Profits ** \\n\")\n",
    "print(f\" > Period: {data['timestamp'].iloc[0]} -> {data['timestamp'].iloc[-1]} \")\n",
    "print(f\" > Starting balance: {initial_capital} {name_quote}\")\n",
    "print(f\" > Final balance Bot: {round(data.iloc[-1]['unrealised_pnl'],2)} {name_quote}\")\n",
    "print(f\" > Final balance Hodl: {round(data.iloc[-1]['hodl'],2)} {name_quote}\")\n",
    "print(f\" > Bot net profits: {round(profits_bot_unrealised.iloc[-1],2)}%\")\n",
    "print(f\" > Hodl net profits: {round(profits_hodl.iloc[-1],2)}%\")\n",
    "print(f\" > Net profits ratio Bot / Hodl: {round(data.iloc[-1]['unrealised_pnl']/data.iloc[-1]['hodl'],2)}\")\n",
    "\n",
    "\n",
    "## Trades\n",
    "orders = pd.json_normalize(backtest_orders, sep='_')\n",
    "n_orders = len(orders.index)\n",
    "if not ignore_longs:\n",
    "    n_longs = orders['type'].value_counts()['long entry']\n",
    "else:\n",
    "    n_longs = 0\n",
    "if not ignore_shorts:\n",
    "    n_shorts = orders['type'].value_counts()['short entry']\n",
    "else:\n",
    "    n_shorts = 0\n",
    "n_entry_orders = 0\n",
    "if not ignore_longs:\n",
    "    n_entry_orders += orders['type'].value_counts()['long entry']\n",
    "if not ignore_shorts:\n",
    "    n_entry_orders += orders['type'].value_counts()['short entry']\n",
    "\n",
    "n_exit_orders = 0\n",
    "if 'long exit' in orders['type'].value_counts():\n",
    "    n_exit_orders += orders['type'].value_counts()['long exit']\n",
    "if 'long tp' in orders['type'].value_counts():\n",
    "    n_exit_orders += orders['type'].value_counts()['long tp']\n",
    "if 'long sl' in orders['type'].value_counts():\n",
    "    n_exit_orders += orders['type'].value_counts()['long sl']\n",
    "if 'short exit' in orders['type'].value_counts():\n",
    "    n_exit_orders += orders['type'].value_counts()['short exit']\n",
    "if 'short tp' in orders['type'].value_counts():\n",
    "    n_exit_orders += orders['type'].value_counts()['short tp']\n",
    "if 'short sl' in orders['type'].value_counts():\n",
    "    n_exit_orders += orders['type'].value_counts()['short sl']\n",
    "\n",
    "orders.loc[::2, 'pnl'] = np.nan\n",
    "orders['Win'] = ''\n",
    "orders.loc[orders['pnl']>0,'Win'] = 'Yes'\n",
    "orders.loc[orders['pnl']<=0,'Win'] = 'No'\n",
    "if 'Yes' in orders['Win'].value_counts():\n",
    "    n_pos_trades = orders['Win'].value_counts()['Yes']\n",
    "else:\n",
    "    n_pos_trades = 0\n",
    "if 'No' in orders['Win'].value_counts():\n",
    "    n_neg_trades = orders['Win'].value_counts()['No']\n",
    "else:\n",
    "    n_neg_trades = 0\n",
    "\n",
    "winrate = round(n_pos_trades / (n_pos_trades+n_neg_trades) * 100,2)\n",
    "orders['pnl%'] = orders['pnl'] / (orders['wallet'] - orders['pnl'])  * 100\n",
    "avg_trades = round(orders['pnl%'].mean(),2)\n",
    "avg_pos_trades = round(orders.loc[orders['Win'] == 'Yes']['pnl%'].mean(),2)\n",
    "avg_neg_trades = round(orders.loc[orders['Win'] == 'No']['pnl%'].mean(),2)\n",
    "best_trade = orders['pnl%'].max()\n",
    "when_best_trade = orders['timestamp'][orders.loc[orders['pnl%'] == best_trade].index.tolist()[0]]\n",
    "best_trade = round(best_trade,2)\n",
    "worst_trade = orders['pnl%'].min()\n",
    "when_worst_trade = orders['timestamp'][orders.loc[orders['pnl%'] == worst_trade].index.tolist()[0]]\n",
    "worst_trade = round(worst_trade,2)\n",
    "\n",
    "print(f\" \\n\\n      ** Trades ** \\n\")\n",
    "print(f\" > Orders: {n_orders} ({n_entry_orders} buys, {n_exit_orders} sells)\")\n",
    "print(f\" > Number of closed trades: {n_pos_trades+n_neg_trades}\")\n",
    "print(f\" > Winrate: {winrate}%\")\n",
    "print(f\" > Average trade profits: {avg_trades}%\")\n",
    "print(f\" > Number of winning trades: {n_pos_trades}\")\n",
    "print(f\" > Number of losing trades: {n_neg_trades}\")\n",
    "print(f\" > Average winning trades: {avg_pos_trades}%\")\n",
    "print(f\" > Average losing trades: {avg_neg_trades}%\")\n",
    "print(f\" > Best trade: {best_trade}% on the {when_best_trade}\")\n",
    "print(f\" > Worst trade: {worst_trade}% on the {when_worst_trade}\")\n",
    "\n",
    "\n",
    "## Health\n",
    "worst_drawdown = round(data['drawdown'].min()*100,2)\n",
    "profit_factor = round(abs(orders.loc[orders['pnl'] > 0, 'pnl'].sum() / orders.loc[orders['pnl'] < 0, 'pnl'].sum()),2)\n",
    "return_over_max_drawdown = round(profits_bot_unrealised.iloc[-1] / abs(worst_drawdown),2)\n",
    "\n",
    "print(f\" \\n\\n      ** Health ** \\n\")\n",
    "print(f\" > Maximum drawdown: {worst_drawdown}%\")\n",
    "print(f\" > Profit factor: {profit_factor}\")\n",
    "print(f\" > Return over maximum drawdown: {return_over_max_drawdown}\")\n",
    "\n",
    "\n",
    "## fees\n",
    "total_fee = round(orders['fee'].sum(),2)\n",
    "biggest_fee = round(orders['fee'].max(),2)\n",
    "avg_fee = round(orders['fee'].mean(),2)\n",
    "\n",
    "print(f\" \\n\\n      ** Fees ** \\n\")\n",
    "print(f\" > Total: {total_fee} {name_quote}\")\n",
    "print(f\" > Biggest: {biggest_fee} {name_quote}\")\n",
    "print(f\" > Average: {avg_fee} {name_quote} \\n\")"
   ]
  },
  {
   "cell_type": "code",
   "execution_count": null,
   "metadata": {},
   "outputs": [],
   "source": []
  }
 ],
 "metadata": {
  "colab": {
   "provenance": []
  },
  "kernelspec": {
   "display_name": "Python 3 (ipykernel)",
   "language": "python",
   "name": "python3"
  },
  "language_info": {
   "codemirror_mode": {
    "name": "ipython",
    "version": 3
   },
   "file_extension": ".py",
   "mimetype": "text/x-python",
   "name": "python",
   "nbconvert_exporter": "python",
   "pygments_lexer": "ipython3",
   "version": "3.10.6"
  }
 },
 "nbformat": 4,
 "nbformat_minor": 1
}
