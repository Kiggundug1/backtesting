{
 "cells": [
  {
   "cell_type": "markdown",
   "metadata": {
    "id": "dcxb2PQtUE8V"
   },
   "source": [
    "**<h1>Setup and data processing<h1>**\n",
    "\n",
    "---\n",
    "\n"
   ]
  },
  {
   "cell_type": "markdown",
   "metadata": {
    "id": "Ni0tCgXTSQL9"
   },
   "source": [
    "<h3>Package installation<h3>\n"
   ]
  },
  {
   "cell_type": "code",
   "execution_count": 25,
   "metadata": {
    "colab": {
     "base_uri": "https://localhost:8080/"
    },
    "id": "FQpoFECiJiLG",
    "outputId": "57558e0e-aa6c-484c-be4d-ef75f96bbdd7"
   },
   "outputs": [
    {
     "name": "stdout",
     "output_type": "stream",
     "text": [
      "Defaulting to user installation because normal site-packages is not writeable\n",
      "\u001b[31mERROR: Could not find a version that satisfies the requirement sys (from versions: none)\u001b[0m\u001b[31m\n",
      "\u001b[0m\u001b[31mERROR: No matching distribution found for sys\u001b[0m\u001b[31m\n",
      "\u001b[0mNote: you may need to restart the kernel to use updated packages.\n",
      "Defaulting to user installation because normal site-packages is not writeable\n",
      "Requirement already satisfied: pandas in /usr/local/lib/python3.10/dist-packages (1.5.1)\n",
      "Requirement already satisfied: python-dateutil>=2.8.1 in /usr/lib/python3/dist-packages (from pandas) (2.8.1)\n",
      "Requirement already satisfied: pytz>=2020.1 in /home/louis/.local/lib/python3.10/site-packages (from pandas) (2023.3)\n",
      "Requirement already satisfied: numpy>=1.21.0 in /usr/lib/python3/dist-packages (from pandas) (1.21.5)\n",
      "Note: you may need to restart the kernel to use updated packages.\n",
      "Defaulting to user installation because normal site-packages is not writeable\n",
      "Requirement already satisfied: python-binance in /usr/local/lib/python3.10/dist-packages (1.0.16)\n",
      "Requirement already satisfied: websockets in /usr/local/lib/python3.10/dist-packages (from python-binance) (10.4)\n",
      "Requirement already satisfied: requests in /usr/local/lib/python3.10/dist-packages (from python-binance) (2.31.0)\n",
      "Requirement already satisfied: ujson in /usr/local/lib/python3.10/dist-packages (from python-binance) (5.5.0)\n",
      "Requirement already satisfied: dateparser in /usr/local/lib/python3.10/dist-packages (from python-binance) (1.1.3)\n",
      "Requirement already satisfied: aiohttp in /usr/local/lib/python3.10/dist-packages (from python-binance) (3.8.3)\n",
      "Requirement already satisfied: six in /usr/lib/python3/dist-packages (from python-binance) (1.16.0)\n",
      "Requirement already satisfied: yarl<2.0,>=1.0 in /usr/local/lib/python3.10/dist-packages (from aiohttp->python-binance) (1.8.1)\n",
      "Requirement already satisfied: frozenlist>=1.1.1 in /usr/local/lib/python3.10/dist-packages (from aiohttp->python-binance) (1.3.3)\n",
      "Requirement already satisfied: async-timeout<5.0,>=4.0.0a3 in /usr/local/lib/python3.10/dist-packages (from aiohttp->python-binance) (4.0.2)\n",
      "Requirement already satisfied: multidict<7.0,>=4.5 in /usr/local/lib/python3.10/dist-packages (from aiohttp->python-binance) (6.0.2)\n",
      "Requirement already satisfied: charset-normalizer<3.0,>=2.0 in /usr/local/lib/python3.10/dist-packages (from aiohttp->python-binance) (2.1.1)\n",
      "Requirement already satisfied: aiosignal>=1.1.2 in /usr/local/lib/python3.10/dist-packages (from aiohttp->python-binance) (1.3.1)\n",
      "Requirement already satisfied: attrs>=17.3.0 in /usr/lib/python3/dist-packages (from aiohttp->python-binance) (21.2.0)\n",
      "Requirement already satisfied: python-dateutil in /usr/lib/python3/dist-packages (from dateparser->python-binance) (2.8.1)\n",
      "Requirement already satisfied: pytz in /home/louis/.local/lib/python3.10/site-packages (from dateparser->python-binance) (2023.3)\n",
      "Requirement already satisfied: regex!=2019.02.19,!=2021.8.27,<2022.3.15 in /usr/local/lib/python3.10/dist-packages (from dateparser->python-binance) (2022.3.2)\n",
      "Requirement already satisfied: tzlocal in /usr/local/lib/python3.10/dist-packages (from dateparser->python-binance) (4.2)\n",
      "Requirement already satisfied: idna<4,>=2.5 in /usr/lib/python3/dist-packages (from requests->python-binance) (3.3)\n",
      "Requirement already satisfied: certifi>=2017.4.17 in /usr/lib/python3/dist-packages (from requests->python-binance) (2020.6.20)\n",
      "Requirement already satisfied: urllib3<3,>=1.21.1 in /usr/lib/python3/dist-packages (from requests->python-binance) (1.26.5)\n",
      "Requirement already satisfied: pytz-deprecation-shim in /usr/local/lib/python3.10/dist-packages (from tzlocal->dateparser->python-binance) (0.1.0.post0)\n",
      "Requirement already satisfied: tzdata in /usr/local/lib/python3.10/dist-packages (from pytz-deprecation-shim->tzlocal->dateparser->python-binance) (2022.6)\n",
      "Note: you may need to restart the kernel to use updated packages.\n",
      "Defaulting to user installation because normal site-packages is not writeable\n",
      "Requirement already satisfied: ta in /usr/local/lib/python3.10/dist-packages (0.10.2)\n",
      "Requirement already satisfied: pandas in /usr/local/lib/python3.10/dist-packages (from ta) (1.5.1)\n",
      "Requirement already satisfied: numpy in /usr/lib/python3/dist-packages (from ta) (1.21.5)\n",
      "Requirement already satisfied: pytz>=2020.1 in /home/louis/.local/lib/python3.10/site-packages (from pandas->ta) (2023.3)\n",
      "Requirement already satisfied: python-dateutil>=2.8.1 in /usr/lib/python3/dist-packages (from pandas->ta) (2.8.1)\n",
      "Note: you may need to restart the kernel to use updated packages.\n",
      "Defaulting to user installation because normal site-packages is not writeable\n",
      "Requirement already satisfied: matplotlib in /usr/lib/python3/dist-packages (3.5.1)\n",
      "Note: you may need to restart the kernel to use updated packages.\n",
      "Defaulting to user installation because normal site-packages is not writeable\n",
      "Requirement already satisfied: numpy in /usr/lib/python3/dist-packages (1.21.5)\n",
      "Note: you may need to restart the kernel to use updated packages.\n"
     ]
    }
   ],
   "source": [
    "%pip install sys\n",
    "%pip install pandas\n",
    "%pip install python-binance\n",
    "%pip install ta\n",
    "%pip install matplotlib\n",
    "%pip install numpy"
   ]
  },
  {
   "cell_type": "markdown",
   "metadata": {
    "id": "G3kKKxoL1xNo"
   },
   "source": [
    "<h3>Imports<h3>"
   ]
  },
  {
   "cell_type": "code",
   "execution_count": 26,
   "metadata": {
    "id": "ix8j_V3gWOt5"
   },
   "outputs": [],
   "source": [
    "import sys\n",
    "import numpy as np\n",
    "import pandas as pd\n",
    "import matplotlib.pyplot as plt\n",
    "import ta\n",
    "from binance.client import Client"
   ]
  },
  {
   "cell_type": "markdown",
   "metadata": {
    "id": "Abb1eUJ_Qmcl"
   },
   "source": [
    "**<h1>Inputs<h1>**\n",
    "\n",
    "---\n",
    "\n"
   ]
  },
  {
   "cell_type": "markdown",
   "metadata": {
    "id": "VLyBtxe4Xn6U"
   },
   "source": [
    "<h3>Asset<h3>"
   ]
  },
  {
   "cell_type": "code",
   "execution_count": 27,
   "metadata": {
    "id": "-Ox7M5AMXn6V"
   },
   "outputs": [],
   "source": [
    "name_base = \"BTC\"\n",
    "name_quote = \"USDT\""
   ]
  },
  {
   "cell_type": "markdown",
   "metadata": {
    "id": "oES_jd7_Qwgi"
   },
   "source": [
    "<h3>Data<h3>"
   ]
  },
  {
   "cell_type": "code",
   "execution_count": 28,
   "metadata": {
    "id": "YKmhAS0oRSKT"
   },
   "outputs": [],
   "source": [
    "timeframe = \"1d\"\n",
    "starting_date_backtest = \"01 january 2019\"\n",
    "ending_date_backtest =  \"01 january 2022\"\n",
    "starting_date_dl = \"01 january 2018\"\n",
    "ending_date_dl = \"01 january 2022\""
   ]
  },
  {
   "cell_type": "markdown",
   "metadata": {
    "id": "ZEUKrxLKRkDC"
   },
   "source": [
    "<h3>Portfolio<h3>"
   ]
  },
  {
   "cell_type": "code",
   "execution_count": 29,
   "metadata": {
    "id": "e_RajxXLRxTB"
   },
   "outputs": [],
   "source": [
    "initial_capital = 1000 # in quote\n",
    "exposure = 2           # in percent\n",
    "# exposure = 'all'       # use this instead if you want 100% of your portfolio to be used for each trade\n",
    "trade_fees = 0.1       # in percent\n",
    "leverage = 5"
   ]
  },
  {
   "cell_type": "markdown",
   "metadata": {
    "id": "4w2eRfduRkWh"
   },
   "source": [
    "<h3>Ignores<h3>"
   ]
  },
  {
   "cell_type": "code",
   "execution_count": 30,
   "metadata": {
    "id": "9PEt-7ltR730"
   },
   "outputs": [],
   "source": [
    "ignore_shorts = False\n",
    "ignore_longs = False\n",
    "\n",
    "ignore_tp = False\n",
    "ignore_sl = False\n",
    "ignore_exit = False"
   ]
  },
  {
   "cell_type": "markdown",
   "metadata": {
    "id": "spLsnfE7VPXd"
   },
   "source": [
    "**<h1>\n",
    "Download Data<h1>**\n",
    "\n",
    "---"
   ]
  },
  {
   "cell_type": "code",
   "execution_count": 31,
   "metadata": {
    "id": "l-R5lRhhSUmY"
   },
   "outputs": [],
   "source": [
    "def download_data(name_base, name_quote, timeframe, starting_date, ending_date):\n",
    "    info = Client().get_historical_klines(name_base+name_quote, timeframe, starting_date, ending_date)\n",
    "    data = pd.DataFrame(info, columns=['timestamp', 'open', 'high', 'low', 'close', 'volume', 'close_time', 'quote_av', 'trades', 'tb_base_av', 'tb_quote_av', 'ignore'])\n",
    "    data.drop(columns=data.columns.difference(['timestamp', 'open', 'high', 'low', 'close']), inplace=True)\n",
    "    data['timestamp'] = pd.to_datetime(data['timestamp'], unit='ms')\n",
    "    data['open'] = pd.to_numeric(data['open'])\n",
    "    data['high'] = pd.to_numeric(data['high'])\n",
    "    data['low'] = pd.to_numeric(data['low'])\n",
    "    data['close'] = pd.to_numeric(data['close'])\n",
    "    return data"
   ]
  },
  {
   "cell_type": "code",
   "execution_count": 32,
   "metadata": {
    "colab": {
     "base_uri": "https://localhost:8080/",
     "height": 364
    },
    "id": "YnvF90QJSbm1",
    "outputId": "d0094daf-9d2a-4686-80ee-c0ef3a29448f"
   },
   "outputs": [
    {
     "data": {
      "text/html": [
       "<div>\n",
       "<style scoped>\n",
       "    .dataframe tbody tr th:only-of-type {\n",
       "        vertical-align: middle;\n",
       "    }\n",
       "\n",
       "    .dataframe tbody tr th {\n",
       "        vertical-align: top;\n",
       "    }\n",
       "\n",
       "    .dataframe thead th {\n",
       "        text-align: right;\n",
       "    }\n",
       "</style>\n",
       "<table border=\"1\" class=\"dataframe\">\n",
       "  <thead>\n",
       "    <tr style=\"text-align: right;\">\n",
       "      <th></th>\n",
       "      <th>timestamp</th>\n",
       "      <th>open</th>\n",
       "      <th>high</th>\n",
       "      <th>low</th>\n",
       "      <th>close</th>\n",
       "    </tr>\n",
       "  </thead>\n",
       "  <tbody>\n",
       "    <tr>\n",
       "      <th>0</th>\n",
       "      <td>2018-01-01</td>\n",
       "      <td>13715.65</td>\n",
       "      <td>13818.55</td>\n",
       "      <td>12750.00</td>\n",
       "      <td>13380.00</td>\n",
       "    </tr>\n",
       "    <tr>\n",
       "      <th>1</th>\n",
       "      <td>2018-01-02</td>\n",
       "      <td>13382.16</td>\n",
       "      <td>15473.49</td>\n",
       "      <td>12890.02</td>\n",
       "      <td>14675.11</td>\n",
       "    </tr>\n",
       "    <tr>\n",
       "      <th>2</th>\n",
       "      <td>2018-01-03</td>\n",
       "      <td>14690.00</td>\n",
       "      <td>15307.56</td>\n",
       "      <td>14150.00</td>\n",
       "      <td>14919.51</td>\n",
       "    </tr>\n",
       "    <tr>\n",
       "      <th>3</th>\n",
       "      <td>2018-01-04</td>\n",
       "      <td>14919.51</td>\n",
       "      <td>15280.00</td>\n",
       "      <td>13918.04</td>\n",
       "      <td>15059.54</td>\n",
       "    </tr>\n",
       "    <tr>\n",
       "      <th>4</th>\n",
       "      <td>2018-01-05</td>\n",
       "      <td>15059.56</td>\n",
       "      <td>17176.24</td>\n",
       "      <td>14600.00</td>\n",
       "      <td>16960.39</td>\n",
       "    </tr>\n",
       "    <tr>\n",
       "      <th>...</th>\n",
       "      <td>...</td>\n",
       "      <td>...</td>\n",
       "      <td>...</td>\n",
       "      <td>...</td>\n",
       "      <td>...</td>\n",
       "    </tr>\n",
       "    <tr>\n",
       "      <th>1457</th>\n",
       "      <td>2021-12-28</td>\n",
       "      <td>50701.44</td>\n",
       "      <td>50704.05</td>\n",
       "      <td>47313.01</td>\n",
       "      <td>47543.74</td>\n",
       "    </tr>\n",
       "    <tr>\n",
       "      <th>1458</th>\n",
       "      <td>2021-12-29</td>\n",
       "      <td>47543.74</td>\n",
       "      <td>48139.08</td>\n",
       "      <td>46096.99</td>\n",
       "      <td>46464.66</td>\n",
       "    </tr>\n",
       "    <tr>\n",
       "      <th>1459</th>\n",
       "      <td>2021-12-30</td>\n",
       "      <td>46464.66</td>\n",
       "      <td>47900.00</td>\n",
       "      <td>45900.00</td>\n",
       "      <td>47120.87</td>\n",
       "    </tr>\n",
       "    <tr>\n",
       "      <th>1460</th>\n",
       "      <td>2021-12-31</td>\n",
       "      <td>47120.88</td>\n",
       "      <td>48548.26</td>\n",
       "      <td>45678.00</td>\n",
       "      <td>46216.93</td>\n",
       "    </tr>\n",
       "    <tr>\n",
       "      <th>1461</th>\n",
       "      <td>2022-01-01</td>\n",
       "      <td>46216.93</td>\n",
       "      <td>47954.63</td>\n",
       "      <td>46208.37</td>\n",
       "      <td>47722.65</td>\n",
       "    </tr>\n",
       "  </tbody>\n",
       "</table>\n",
       "<p>1462 rows × 5 columns</p>\n",
       "</div>"
      ],
      "text/plain": [
       "      timestamp      open      high       low     close\n",
       "0    2018-01-01  13715.65  13818.55  12750.00  13380.00\n",
       "1    2018-01-02  13382.16  15473.49  12890.02  14675.11\n",
       "2    2018-01-03  14690.00  15307.56  14150.00  14919.51\n",
       "3    2018-01-04  14919.51  15280.00  13918.04  15059.54\n",
       "4    2018-01-05  15059.56  17176.24  14600.00  16960.39\n",
       "...         ...       ...       ...       ...       ...\n",
       "1457 2021-12-28  50701.44  50704.05  47313.01  47543.74\n",
       "1458 2021-12-29  47543.74  48139.08  46096.99  46464.66\n",
       "1459 2021-12-30  46464.66  47900.00  45900.00  47120.87\n",
       "1460 2021-12-31  47120.88  48548.26  45678.00  46216.93\n",
       "1461 2022-01-01  46216.93  47954.63  46208.37  47722.65\n",
       "\n",
       "[1462 rows x 5 columns]"
      ]
     },
     "execution_count": 32,
     "metadata": {},
     "output_type": "execute_result"
    }
   ],
   "source": [
    "data_dl = download_data(name_base, name_quote, timeframe, starting_date_dl, ending_date_dl)\n",
    "data_dl"
   ]
  },
  {
   "cell_type": "markdown",
   "metadata": {
    "id": "F7wlCHRvS01O"
   },
   "source": [
    "**<h1>Strategy<h1>**\n",
    "\n",
    "---"
   ]
  },
  {
   "cell_type": "code",
   "execution_count": 33,
   "metadata": {
    "id": "w4l36OMnS6tu"
   },
   "outputs": [],
   "source": [
    "def compute_indicators(data): # check https://technical-analysis-library-in-python.readthedocs.io/en/latest/ta.html\n",
    "    data['EMAf'] = ta.trend.ema_indicator(data['close'], 10)\n",
    "    data['EMAs'] = ta.trend.ema_indicator(data['close'], 30)\n",
    "    data['Trend'] = ta.trend.sma_indicator(data['close'], 50)\n",
    "    data['RSI'] = ta.momentum.rsi(data['close'])\n",
    "    data['ATR'] = ta.volatility.average_true_range(data['high'], data['low'], data['close'], window=14)\n",
    "\n",
    "    # MACD = ta.trend.MACD(data['close'], window_slow=26, window_fast=12, window_sign=9)\n",
    "    # data['MACD'] = MACD.macd()\n",
    "    # data['MACD_histo'] = MACD.macd_diff()\n",
    "    # data['MACD_signal'] = MACD.macd_signal()\n",
    "\n",
    "    # BB = ta.volatility.BollingerBands(close=data['close'], window=100, window_dev=2)\n",
    "    # data[\"BB_lower\"] = BB.bollinger_lband()\n",
    "    # data[\"BB_upper\"] = BB.bollinger_hband()\n",
    "    # data[\"BB_avg\"] = BB.bollinger_mavg()\n",
    "\n",
    "    return data"
   ]
  },
  {
   "cell_type": "code",
   "execution_count": 34,
   "metadata": {
    "id": "Ubd_BB_USl2-"
   },
   "outputs": [],
   "source": [
    "def prepare_data(data, starting_date, ending_date):\n",
    "    data2 = data.copy()\n",
    "    data2 = compute_indicators(data2)\n",
    "    data2 = data2[(data2['timestamp'] > starting_date + ' 00:00:00') & (data2['timestamp'] < ending_date + ' 00:00:00')]\n",
    "    data2.dropna(inplace=True)\n",
    "    return data2"
   ]
  },
  {
   "cell_type": "code",
   "execution_count": 35,
   "metadata": {
    "id": "fFPjyukjTDa7"
   },
   "outputs": [
    {
     "data": {
      "text/html": [
       "<div>\n",
       "<style scoped>\n",
       "    .dataframe tbody tr th:only-of-type {\n",
       "        vertical-align: middle;\n",
       "    }\n",
       "\n",
       "    .dataframe tbody tr th {\n",
       "        vertical-align: top;\n",
       "    }\n",
       "\n",
       "    .dataframe thead th {\n",
       "        text-align: right;\n",
       "    }\n",
       "</style>\n",
       "<table border=\"1\" class=\"dataframe\">\n",
       "  <thead>\n",
       "    <tr style=\"text-align: right;\">\n",
       "      <th></th>\n",
       "      <th>timestamp</th>\n",
       "      <th>open</th>\n",
       "      <th>high</th>\n",
       "      <th>low</th>\n",
       "      <th>close</th>\n",
       "      <th>EMAf</th>\n",
       "      <th>EMAs</th>\n",
       "      <th>Trend</th>\n",
       "      <th>RSI</th>\n",
       "      <th>ATR</th>\n",
       "    </tr>\n",
       "  </thead>\n",
       "  <tbody>\n",
       "    <tr>\n",
       "      <th>366</th>\n",
       "      <td>2019-01-02</td>\n",
       "      <td>3796.45</td>\n",
       "      <td>3882.14</td>\n",
       "      <td>3750.45</td>\n",
       "      <td>3858.56</td>\n",
       "      <td>3775.198535</td>\n",
       "      <td>3874.169040</td>\n",
       "      <td>4026.7196</td>\n",
       "      <td>50.645194</td>\n",
       "      <td>249.676827</td>\n",
       "    </tr>\n",
       "    <tr>\n",
       "      <th>367</th>\n",
       "      <td>2019-01-03</td>\n",
       "      <td>3857.57</td>\n",
       "      <td>3862.74</td>\n",
       "      <td>3730.00</td>\n",
       "      <td>3766.78</td>\n",
       "      <td>3773.667892</td>\n",
       "      <td>3867.240715</td>\n",
       "      <td>3983.6070</td>\n",
       "      <td>48.072505</td>\n",
       "      <td>241.324196</td>\n",
       "    </tr>\n",
       "    <tr>\n",
       "      <th>368</th>\n",
       "      <td>2019-01-04</td>\n",
       "      <td>3767.20</td>\n",
       "      <td>3823.64</td>\n",
       "      <td>3703.57</td>\n",
       "      <td>3792.01</td>\n",
       "      <td>3777.002821</td>\n",
       "      <td>3862.387120</td>\n",
       "      <td>3944.3792</td>\n",
       "      <td>48.841844</td>\n",
       "      <td>232.663182</td>\n",
       "    </tr>\n",
       "    <tr>\n",
       "      <th>369</th>\n",
       "      <td>2019-01-05</td>\n",
       "      <td>3790.09</td>\n",
       "      <td>3840.99</td>\n",
       "      <td>3751.00</td>\n",
       "      <td>3770.96</td>\n",
       "      <td>3775.904126</td>\n",
       "      <td>3856.488596</td>\n",
       "      <td>3906.6796</td>\n",
       "      <td>48.200208</td>\n",
       "      <td>222.472241</td>\n",
       "    </tr>\n",
       "    <tr>\n",
       "      <th>370</th>\n",
       "      <td>2019-01-06</td>\n",
       "      <td>3771.12</td>\n",
       "      <td>4027.71</td>\n",
       "      <td>3740.00</td>\n",
       "      <td>3987.60</td>\n",
       "      <td>3814.394285</td>\n",
       "      <td>3864.947397</td>\n",
       "      <td>3873.8658</td>\n",
       "      <td>54.783790</td>\n",
       "      <td>227.132081</td>\n",
       "    </tr>\n",
       "    <tr>\n",
       "      <th>...</th>\n",
       "      <td>...</td>\n",
       "      <td>...</td>\n",
       "      <td>...</td>\n",
       "      <td>...</td>\n",
       "      <td>...</td>\n",
       "      <td>...</td>\n",
       "      <td>...</td>\n",
       "      <td>...</td>\n",
       "      <td>...</td>\n",
       "      <td>...</td>\n",
       "    </tr>\n",
       "    <tr>\n",
       "      <th>1456</th>\n",
       "      <td>2021-12-27</td>\n",
       "      <td>50775.48</td>\n",
       "      <td>52088.00</td>\n",
       "      <td>50449.00</td>\n",
       "      <td>50701.44</td>\n",
       "      <td>49736.414486</td>\n",
       "      <td>50936.724253</td>\n",
       "      <td>54526.7194</td>\n",
       "      <td>50.241134</td>\n",
       "      <td>2469.152594</td>\n",
       "    </tr>\n",
       "    <tr>\n",
       "      <th>1457</th>\n",
       "      <td>2021-12-28</td>\n",
       "      <td>50701.44</td>\n",
       "      <td>50704.05</td>\n",
       "      <td>47313.01</td>\n",
       "      <td>47543.74</td>\n",
       "      <td>49337.746398</td>\n",
       "      <td>50717.822043</td>\n",
       "      <td>54127.0776</td>\n",
       "      <td>40.655289</td>\n",
       "      <td>2535.001694</td>\n",
       "    </tr>\n",
       "    <tr>\n",
       "      <th>1458</th>\n",
       "      <td>2021-12-29</td>\n",
       "      <td>47543.74</td>\n",
       "      <td>48139.08</td>\n",
       "      <td>46096.99</td>\n",
       "      <td>46464.66</td>\n",
       "      <td>48815.367053</td>\n",
       "      <td>50443.424492</td>\n",
       "      <td>53717.4176</td>\n",
       "      <td>37.987915</td>\n",
       "      <td>2499.793716</td>\n",
       "    </tr>\n",
       "    <tr>\n",
       "      <th>1459</th>\n",
       "      <td>2021-12-30</td>\n",
       "      <td>46464.66</td>\n",
       "      <td>47900.00</td>\n",
       "      <td>45900.00</td>\n",
       "      <td>47120.87</td>\n",
       "      <td>48507.276679</td>\n",
       "      <td>50229.066137</td>\n",
       "      <td>53362.1864</td>\n",
       "      <td>40.542652</td>\n",
       "      <td>2464.094165</td>\n",
       "    </tr>\n",
       "    <tr>\n",
       "      <th>1460</th>\n",
       "      <td>2021-12-31</td>\n",
       "      <td>47120.88</td>\n",
       "      <td>48548.26</td>\n",
       "      <td>45678.00</td>\n",
       "      <td>46216.93</td>\n",
       "      <td>48090.850010</td>\n",
       "      <td>49970.218645</td>\n",
       "      <td>52991.0398</td>\n",
       "      <td>38.207577</td>\n",
       "      <td>2493.106010</td>\n",
       "    </tr>\n",
       "  </tbody>\n",
       "</table>\n",
       "<p>1095 rows × 10 columns</p>\n",
       "</div>"
      ],
      "text/plain": [
       "      timestamp      open      high       low     close          EMAf  \\\n",
       "366  2019-01-02   3796.45   3882.14   3750.45   3858.56   3775.198535   \n",
       "367  2019-01-03   3857.57   3862.74   3730.00   3766.78   3773.667892   \n",
       "368  2019-01-04   3767.20   3823.64   3703.57   3792.01   3777.002821   \n",
       "369  2019-01-05   3790.09   3840.99   3751.00   3770.96   3775.904126   \n",
       "370  2019-01-06   3771.12   4027.71   3740.00   3987.60   3814.394285   \n",
       "...         ...       ...       ...       ...       ...           ...   \n",
       "1456 2021-12-27  50775.48  52088.00  50449.00  50701.44  49736.414486   \n",
       "1457 2021-12-28  50701.44  50704.05  47313.01  47543.74  49337.746398   \n",
       "1458 2021-12-29  47543.74  48139.08  46096.99  46464.66  48815.367053   \n",
       "1459 2021-12-30  46464.66  47900.00  45900.00  47120.87  48507.276679   \n",
       "1460 2021-12-31  47120.88  48548.26  45678.00  46216.93  48090.850010   \n",
       "\n",
       "              EMAs       Trend        RSI          ATR  \n",
       "366    3874.169040   4026.7196  50.645194   249.676827  \n",
       "367    3867.240715   3983.6070  48.072505   241.324196  \n",
       "368    3862.387120   3944.3792  48.841844   232.663182  \n",
       "369    3856.488596   3906.6796  48.200208   222.472241  \n",
       "370    3864.947397   3873.8658  54.783790   227.132081  \n",
       "...            ...         ...        ...          ...  \n",
       "1456  50936.724253  54526.7194  50.241134  2469.152594  \n",
       "1457  50717.822043  54127.0776  40.655289  2535.001694  \n",
       "1458  50443.424492  53717.4176  37.987915  2499.793716  \n",
       "1459  50229.066137  53362.1864  40.542652  2464.094165  \n",
       "1460  49970.218645  52991.0398  38.207577  2493.106010  \n",
       "\n",
       "[1095 rows x 10 columns]"
      ]
     },
     "execution_count": 35,
     "metadata": {},
     "output_type": "execute_result"
    }
   ],
   "source": [
    "data = prepare_data(data_dl, starting_date_backtest, ending_date_backtest)\n",
    "data"
   ]
  },
  {
   "cell_type": "markdown",
   "metadata": {
    "id": "93cmN-VcSJGf"
   },
   "source": [
    "<h3>Longs<h3>"
   ]
  },
  {
   "cell_type": "code",
   "execution_count": 36,
   "metadata": {
    "id": "y4fLfGswTQVs"
   },
   "outputs": [],
   "source": [
    "def check_long_entry_condition(row, previous_row):\n",
    "    return row['close'] > row['Trend'] and row['EMAf'] > row['EMAs'] and previous_row['EMAf'] < previous_row['EMAs'] and row['RSI'] < 70\n",
    "\n",
    "\n",
    "def check_long_exit_condition(row, previous_row):\n",
    "    return row['EMAf'] < row['EMAs'] and previous_row['EMAf'] > previous_row['EMAs']\n",
    "\n",
    "\n",
    "def compute_long_sl_level(row, entry_price):\n",
    "    return entry_price - 2 * row['ATR']\n",
    "\n",
    "\n",
    "def compute_long_tp_level(row, entry_price, stop_loss_price):\n",
    "    risk_reward_ratio = 4\n",
    "    return entry_price * (1 + risk_reward_ratio * (1 - stop_loss_price / entry_price))\n",
    "    # return row['open'] * 1.1"
   ]
  },
  {
   "cell_type": "markdown",
   "metadata": {
    "id": "lHa8jM6wSJN0"
   },
   "source": [
    "<h3>Shorts<h3>"
   ]
  },
  {
   "cell_type": "code",
   "execution_count": 37,
   "metadata": {
    "id": "_JcIMhvOTVBQ"
   },
   "outputs": [],
   "source": [
    "def check_short_entry_condition(row, previous_row):\n",
    "    return row['close'] < row['Trend'] and row['EMAf'] < row['EMAs'] and previous_row['EMAf'] > previous_row['EMAs'] and row['RSI'] > 30\n",
    "\n",
    "\n",
    "def check_short_exit_condition(row, previous_row):\n",
    "    return row['EMAf'] > row['EMAs'] and previous_row['EMAf'] < previous_row['EMAs']\n",
    "\n",
    "\n",
    "def compute_short_sl_level(row, entry_price):\n",
    "    return entry_price + 2 * row['ATR']\n",
    "\n",
    "\n",
    "def compute_short_tp_level(row, entry_price, stop_loss_price):\n",
    "    risk_reward_ratio = 4\n",
    "    return entry_price * (1 - risk_reward_ratio * (stop_loss_price / entry_price - 1))"
   ]
  },
  {
   "cell_type": "markdown",
   "metadata": {
    "id": "XmF1hYyMTcfB"
   },
   "source": [
    "**<h1>Core Functions<h1>**\n",
    "\n",
    "---"
   ]
  },
  {
   "cell_type": "code",
   "execution_count": 38,
   "metadata": {
    "id": "G8cHv-e9Tytl"
   },
   "outputs": [],
   "source": [
    "def calculate_position_size(balance, exposure, entry_price, stop_loss_price):\n",
    "    if exposure == 'all':\n",
    "        return balance\n",
    "    risked_amount = balance * (exposure / 100)\n",
    "    position = risked_amount * entry_price / abs(entry_price - stop_loss_price)\n",
    "    return min(balance, position)\n",
    "\n",
    "\n",
    "def calculate_liquidation_price(price, leverage, order_type):\n",
    "        if order_type == 'long':\n",
    "            return price * (1 - 1 / leverage)\n",
    "        elif order_type == 'short':\n",
    "            return price * (1 + 1 / leverage)\n",
    "\n",
    "\n",
    "def calculate_pnl(entry_price, exit_price, quantity, order_type):\n",
    "    if order_type == 'long':\n",
    "        return (exit_price - entry_price) * quantity\n",
    "    elif order_type == 'short':\n",
    "        return (entry_price - exit_price) * quantity"
   ]
  },
  {
   "cell_type": "code",
   "execution_count": 54,
   "metadata": {
    "id": "vNk2TyQqT8QO"
   },
   "outputs": [],
   "source": [
    "def record_order(timestamp, type, price, amount, pnl, wallet, fee, orders):\n",
    "    order = {\n",
    "        'timestamp': timestamp,\n",
    "        'type': type,\n",
    "        'amount': amount,\n",
    "        'fee': fee,\n",
    "        'pnl': pnl,\n",
    "        'wallet': wallet,\n",
    "    }\n",
    "    orders.append(order)\n",
    "    print(f\"{type} at {price} {name_quote} on {timestamp}, amount = {round(amount,2)} {name_quote}, pnl = {round(pnl,2)} {name_quote}, wallet = {round(wallet,2)} {name_quote}\")"
   ]
  },
  {
   "cell_type": "code",
   "execution_count": 55,
   "metadata": {
    "id": "HyqOw-n0UF_K"
   },
   "outputs": [],
   "source": [
    "def run_backtest(data):\n",
    "\n",
    "    # Initialize variables\n",
    "    orders = []\n",
    "    order_in_progress = None\n",
    "    last_ath = 0\n",
    "    sl_price = 0\n",
    "    tp_price = 0\n",
    "    long_liquidation_price = 0\n",
    "    short_liquidation_price = 1e10\n",
    "    wallet = initial_capital\n",
    "    data['realised_pnl'] = ''\n",
    "    data['unrealised_pnl'] = ''\n",
    "    data['hodl'] = ''\n",
    "    data['drawdown'] = ''\n",
    "    previous_row = data.iloc[0]\n",
    "\n",
    "\n",
    "    # Go through data and make trades\n",
    "    for index, row in data.iterrows():\n",
    "        price = row['close']\n",
    "\n",
    "\n",
    "        # check if it is time to close a long\n",
    "        if order_in_progress == 'long' and not ignore_longs:\n",
    "            if row['low'] < long_liquidation_price:\n",
    "                print(f' /!\\ Your long was liquidated on the {row[\"timestamp\"]} (price = {long_liquidation_price} {name_quote})')\n",
    "                sys.exit()\n",
    "\n",
    "            elif not ignore_sl and row['low'] <= sl_price:\n",
    "                pnl = calculate_pnl(entry_price, price, quantity, order_in_progress)\n",
    "                fee_exit = quantity * price * trade_fees / 100\n",
    "                wallet += position - fee_entry + pnl - fee_exit\n",
    "                record_order(row['timestamp'], 'long sl', price, 0, pnl - fee_exit - fee_entry, wallet, fee_exit, orders)\n",
    "                order_in_progress = None\n",
    "\n",
    "            elif not ignore_tp and row['high'] >= tp_price:\n",
    "                pnl = calculate_pnl(entry_price, price, quantity, order_in_progress)\n",
    "                fee_exit = quantity * price * trade_fees / 100\n",
    "                wallet += position - fee_entry + pnl - fee_exit\n",
    "                record_order(row['timestamp'], 'long tp', price, 0, pnl - fee_exit - fee_entry, wallet, fee_exit, orders)\n",
    "                order_in_progress = None\n",
    "\n",
    "            elif not ignore_exit and check_long_exit_condition(row, previous_row):\n",
    "                pnl = calculate_pnl(entry_price, price, quantity, order_in_progress)\n",
    "                fee_exit = quantity * price * trade_fees / 100\n",
    "                wallet += position - fee_entry + pnl - fee_exit\n",
    "                record_order(row['timestamp'], 'long exit', price, 0, pnl - fee_exit - fee_entry, wallet, fee_exit, orders)\n",
    "                order_in_progress = None\n",
    "\n",
    "            if wallet > last_ath:\n",
    "                last_ath = wallet\n",
    "\n",
    "\n",
    "        # check if it is time to close a short\n",
    "        elif order_in_progress == 'short' and not ignore_shorts:\n",
    "            if row['high'] > short_liquidation_price:\n",
    "                print(f' /!\\ Your short was liquidated on the {row[\"timestamp\"]} (price = {short_liquidation_price} {name_quote})')\n",
    "                sys.exit()\n",
    "\n",
    "            elif not ignore_sl and row['high'] >= sl_price:\n",
    "                pnl = calculate_pnl(entry_price, price, quantity, order_in_progress)\n",
    "                fee_exit = quantity * price * trade_fees / 100\n",
    "                wallet += position - fee_entry + pnl - fee_exit\n",
    "                record_order(row['timestamp'], 'short sl', price, 0, pnl - fee_exit - fee_entry, wallet, fee_exit, orders)\n",
    "                order_in_progress = None\n",
    "\n",
    "            elif not ignore_tp and row['low'] <= tp_price:\n",
    "                pnl = calculate_pnl(entry_price, price, quantity, order_in_progress)\n",
    "                fee_exit = quantity * price * trade_fees / 100\n",
    "                wallet += position - fee_entry + pnl - fee_exit\n",
    "                record_order(row['timestamp'], 'short tp', price, 0, pnl - fee_exit - fee_entry, wallet, fee_exit, orders)\n",
    "                order_in_progress = None\n",
    "\n",
    "            elif not ignore_exit and check_short_exit_condition(row, previous_row):\n",
    "                pnl = calculate_pnl(entry_price, price, quantity, order_in_progress)\n",
    "                fee_exit = quantity * price * trade_fees / 100\n",
    "                wallet += position - fee_entry + pnl - fee_exit\n",
    "                record_order(row['timestamp'], 'short exit', price, 0, pnl - fee_exit - fee_entry, wallet, fee_exit, orders)\n",
    "                order_in_progress = None\n",
    "\n",
    "            if wallet > last_ath:\n",
    "                last_ath = wallet\n",
    "\n",
    "\n",
    "        # check it is time to enter a long\n",
    "        if not ignore_longs and order_in_progress == None:\n",
    "            if check_long_entry_condition(row, previous_row):\n",
    "                order_in_progress = 'long'\n",
    "                if not ignore_sl:\n",
    "                    sl_price = compute_long_sl_level(row, price)\n",
    "                if not ignore_tp:\n",
    "                    tp_price = compute_long_tp_level(row, price, sl_price)\n",
    "                entry_price = price\n",
    "                position = calculate_position_size(wallet, exposure, price, sl_price)\n",
    "                amount = position * leverage\n",
    "                fee_entry = amount * trade_fees / 100\n",
    "                quantity = (amount - fee_entry) / price\n",
    "                long_liquidation_price = calculate_liquidation_price(price, leverage, order_in_progress)\n",
    "                if wallet > last_ath:\n",
    "                    last_ath = wallet\n",
    "\n",
    "                wallet -= position\n",
    "                record_order(row['timestamp'], 'long entry', price, amount-fee_entry, -fee_entry, wallet, fee_entry, orders)\n",
    "\n",
    "\n",
    "        # check if it is time to enter a short\n",
    "        if not ignore_shorts and order_in_progress == None:\n",
    "            if check_short_entry_condition(row, previous_row):\n",
    "                order_in_progress = 'short'\n",
    "                if not ignore_sl:\n",
    "                    sl_price = compute_short_sl_level(row, price)\n",
    "                if not ignore_tp:\n",
    "                    tp_price = compute_short_tp_level(row, price, sl_price)\n",
    "                entry_price = price\n",
    "                position = calculate_position_size(wallet, exposure, price, sl_price)\n",
    "                amount = position * leverage\n",
    "                fee_entry = amount * trade_fees / 100\n",
    "                quantity = (amount - fee_entry) / price\n",
    "                short_liquidation_price = calculate_liquidation_price(price, leverage, order_in_progress)\n",
    "                wallet -= position\n",
    "                record_order(row['timestamp'], 'short entry', price, amount-fee_entry, -fee_entry, wallet, fee_entry, orders)\n",
    "\n",
    "\n",
    "        # updating wallet info\n",
    "        data.at[index, 'realised_pnl'] = wallet\n",
    "        data.at[index, 'unrealised_pnl'] = data.at[index, 'realised_pnl']\n",
    "        if order_in_progress != None:\n",
    "            data.at[index, 'unrealised_pnl'] += position + calculate_pnl(entry_price, price, quantity, order_in_progress) #- fee\n",
    "        data.at[index, 'hodl'] = initial_capital / data[\"close\"].iloc[0] * price\n",
    "        data.at[index, 'drawdown'] = (data.at[index, 'unrealised_pnl'] - last_ath) / last_ath if last_ath else 0\n",
    "\n",
    "        previous_row = row\n",
    "\n",
    "    return data, orders"
   ]
  },
  {
   "cell_type": "markdown",
   "metadata": {
    "id": "sBhyHAFlUWXo"
   },
   "source": [
    "**<h1>Backtest<h1>**\n",
    "\n",
    "---"
   ]
  },
  {
   "cell_type": "markdown",
   "metadata": {
    "id": "Cqrd41wNSJRW"
   },
   "source": [
    "<h3>Run<h3>"
   ]
  },
  {
   "cell_type": "code",
   "execution_count": 56,
   "metadata": {
    "id": "5a2mV43YUgsj"
   },
   "outputs": [
    {
     "name": "stdout",
     "output_type": "stream",
     "text": [
      "long entry at 10929.23 USDT on 2019-08-04 00:00:00, amount = 839.76 USDT, pnl = -0.84 USDT, wallet = 831.88 USDT\n",
      "long exit at 10216.02 USDT on 2019-08-17 00:00:00, amount = 0 USDT, pnl = -56.43 USDT, wallet = 943.57 USDT\n",
      "short entry at 10216.02 USDT on 2019-08-17 00:00:00, amount = 739.02 USDT, pnl = -0.74 USDT, wallet = 795.62 USDT\n",
      "short exit at 9205.14 USDT on 2019-10-28 00:00:00, amount = 0 USDT, pnl = 71.72 USDT, wallet = 1015.3 USDT\n",
      "long entry at 9205.14 USDT on 2019-10-28 00:00:00, amount = 836.33 USDT, pnl = -0.84 USDT, wallet = 847.86 USDT\n",
      "long exit at 8471.73 USDT on 2019-11-15 00:00:00, amount = 0 USDT, pnl = -68.24 USDT, wallet = 947.05 USDT\n",
      "short entry at 8471.73 USDT on 2019-11-15 00:00:00, amount = 1050.65 USDT, pnl = -1.05 USDT, wallet = 736.72 USDT\n",
      "short exit at 7758.0 USDT on 2020-01-06 00:00:00, amount = 0 USDT, pnl = 86.5 USDT, wallet = 1033.56 USDT\n",
      "long entry at 7758.0 USDT on 2020-01-06 00:00:00, amount = 1430.98 USDT, pnl = -1.43 USDT, wallet = 747.07 USDT\n",
      "long tp at 10151.75 USDT on 2020-02-09 00:00:00, amount = 0 USDT, pnl = 438.23 USDT, wallet = 1471.78 USDT\n",
      "short entry at 8823.21 USDT on 2020-02-27 00:00:00, amount = 1532.15 USDT, pnl = -1.53 USDT, wallet = 1165.05 USDT\n",
      "short tp at 4800.0 USDT on 2020-03-12 00:00:00, amount = 0 USDT, pnl = 696.26 USDT, wallet = 2168.05 USDT\n",
      "short entry at 6868.7 USDT on 2020-04-14 00:00:00, amount = 1632.03 USDT, pnl = -1.63 USDT, wallet = 1841.31 USDT\n",
      "short exit at 7027.55 USDT on 2020-04-17 00:00:00, amount = 0 USDT, pnl = -41.05 USDT, wallet = 2127.0 USDT\n",
      "long entry at 7027.55 USDT on 2020-04-17 00:00:00, amount = 1675.95 USDT, pnl = -1.68 USDT, wallet = 1791.48 USDT\n",
      "long exit at 9162.21 USDT on 2020-06-26 00:00:00, amount = 0 USDT, pnl = 505.22 USDT, wallet = 2632.22 USDT\n",
      "short entry at 9162.21 USDT on 2020-06-26 00:00:00, amount = 3480.38 USDT, pnl = -3.48 USDT, wallet = 1935.44 USDT\n",
      "short exit at 9518.16 USDT on 2020-07-22 00:00:00, amount = 0 USDT, pnl = -142.31 USDT, wallet = 2489.9 USDT\n",
      "long entry at 9518.16 USDT on 2020-07-22 00:00:00, amount = 5697.03 USDT, pnl = -5.7 USDT, wallet = 1349.36 USDT\n",
      "long tp at 11029.96 USDT on 2020-07-27 00:00:00, amount = 0 USDT, pnl = 892.57 USDT, wallet = 3382.48 USDT\n",
      "short entry at 10140.85 USDT on 2020-09-03 00:00:00, amount = 3495.33 USDT, pnl = -3.5 USDT, wallet = 2682.71 USDT\n",
      "short sl at 11080.65 USDT on 2020-09-19 00:00:00, amount = 0 USDT, pnl = -331.25 USDT, wallet = 3051.23 USDT\n",
      "long entry at 11050.64 USDT on 2020-10-09 00:00:00, amount = 5467.01 USDT, pnl = -5.47 USDT, wallet = 1956.73 USDT\n",
      "long tp at 13636.17 USDT on 2020-10-27 00:00:00, amount = 0 USDT, pnl = 1266.9 USDT, wallet = 4318.13 USDT\n",
      "short entry at 51690.96 USDT on 2021-04-22 00:00:00, amount = 3209.51 USDT, pnl = -3.21 USDT, wallet = 3675.59 USDT\n",
      "short sl at 57169.39 USDT on 2021-05-03 00:00:00, amount = 0 USDT, pnl = -346.92 USDT, wallet = 3971.21 USDT\n",
      "long entry at 57314.75 USDT on 2021-05-07 00:00:00, amount = 3330.52 USDT, pnl = -3.33 USDT, wallet = 3304.44 USDT\n",
      "long sl at 49631.32 USDT on 2021-05-12 00:00:00, amount = 0 USDT, pnl = -452.7 USDT, wallet = 3518.52 USDT\n",
      "short entry at 49631.32 USDT on 2021-05-12 00:00:00, amount = 2246.74 USDT, pnl = -2.25 USDT, wallet = 3068.72 USDT\n",
      "short exit at 37237.6 USDT on 2021-07-26 00:00:00, amount = 0 USDT, pnl = 557.11 USDT, wallet = 4075.63 USDT\n",
      "long entry at 37237.6 USDT on 2021-07-26 00:00:00, amount = 3680.43 USDT, pnl = -3.68 USDT, wallet = 3338.81 USDT\n",
      "long exit at 43015.62 USDT on 2021-09-20 00:00:00, amount = 0 USDT, pnl = 563.14 USDT, wallet = 4638.77 USDT\n",
      "short entry at 43015.62 USDT on 2021-09-20 00:00:00, amount = 4027.23 USDT, pnl = -4.03 USDT, wallet = 3832.52 USDT\n",
      "short sl at 48141.61 USDT on 2021-10-01 00:00:00, amount = 0 USDT, pnl = -488.45 USDT, wallet = 4150.32 USDT\n",
      "long entry at 48200.01 USDT on 2021-10-03 00:00:00, amount = 3880.37 USDT, pnl = -3.88 USDT, wallet = 3373.47 USDT\n",
      "long tp at 64882.43 USDT on 2021-11-10 00:00:00, amount = 0 USDT, pnl = 1333.92 USDT, wallet = 5484.24 USDT\n",
      "short entry at 59707.51 USDT on 2021-11-20 00:00:00, amount = 5442.25 USDT, pnl = -5.45 USDT, wallet = 4394.7 USDT\n"
     ]
    }
   ],
   "source": [
    "data, orders = run_backtest(data)"
   ]
  },
  {
   "cell_type": "markdown",
   "metadata": {
    "id": "UYxUw_-NSJUq"
   },
   "source": [
    "<h3>Analysis<h3>"
   ]
  },
  {
   "cell_type": "code",
   "execution_count": 42,
   "metadata": {
    "id": "jFWDuCjSUrIi"
   },
   "outputs": [
    {
     "name": "stdout",
     "output_type": "stream",
     "text": [
      " \n",
      "\n",
      "      ** Profits ** \n",
      "\n",
      " > Period: 2019-01-02 00:00:00 -> 2021-12-31 00:00:00 \n",
      " > Starting balance: 1000 USDT\n",
      " > Final balance Bot: 6713.89 USDT\n",
      " > Final balance Hodl: 11977.77 USDT\n",
      " > Bot net profits: 571.39%\n",
      " > Hodl net profits: 1097.78%\n",
      " > Net profits ratio Bot / Hodl: 0.56\n",
      " \n",
      "      ** Trades ** \n",
      "\n",
      " > Orders: 37 (19 buys, 18 sells)\n",
      " > Number of closed trades: 18\n",
      " > Winrate: 55.56%\n",
      " > Average trade profits: 11.66%\n",
      " > Number of winning trades: 10\n",
      " > Number of losing trades: 8\n",
      " > Average winning trades: 26.94%\n",
      " > Average losing trades: -7.43%\n",
      " > Best trade: 47.31% on the 2020-03-12 00:00:00\n",
      " > Worst trade: -11.4% on the 2021-05-12 00:00:00\n",
      " \n",
      "      ** Health ** \n",
      "\n",
      " > Maximum drawdown: -18.74%\n",
      " > Annualized Sharpe ratio: 1.35\n",
      " \n",
      "      ** Fees ** \n",
      "\n",
      " > Total: 106.38 USDT\n",
      " > Biggest: 6.75 USDT\n",
      " > Average: 2.88 USDT \n",
      "\n"
     ]
    },
    {
     "data": {
      "image/png": "[encoded data removed]",
      "text/plain": [
       "<Figure size 720x720 with 2 Axes>"
      ]
     },
     "metadata": {
      "needs_background": "light"
     },
     "output_type": "display_data"
    }
   ],
   "source": [
    "## Profits\n",
    "show_unrealised = True\n",
    "show_realised = False\n",
    "show_hodl = False\n",
    "\n",
    "profit_bot_realised = ((data['realised_pnl'] - initial_capital)/initial_capital) * 100\n",
    "profit_bot_unrealised = ((data['unrealised_pnl'] - initial_capital)/initial_capital) * 100\n",
    "profit_hodl = ((data['hodl'] - data.iloc[0]['hodl'])/data.iloc[0]['hodl']) * 100\n",
    "\n",
    "fig, (ax1, ax2) = plt.subplots(2, 1, figsize=(10, 10))\n",
    "if show_unrealised:\n",
    "    ax1.plot(data['timestamp'], profit_bot_unrealised, color='gold', label='Bot')\n",
    "if show_realised:\n",
    "    ax1.plot(data['timestamp'], profit_bot_realised, color='gold', label='Bot (realised)', ls= '--')\n",
    "if show_hodl:\n",
    "    ax1.plot(data['timestamp'], profit_hodl, color='purple', label='Hodl')\n",
    "ax1.set_title('Net Profits', fontsize=20)\n",
    "ax1.set_ylabel('Net Profits (%)', fontsize=18)\n",
    "ax1.set_xticklabels([])\n",
    "ax1.legend(fontsize=16)\n",
    "if show_unrealised:\n",
    "    ax2.plot(data['timestamp'], data['unrealised_pnl'], color='gold', label='Bot')\n",
    "if show_realised:\n",
    "    ax2.plot(data['timestamp'], data['realised_pnl'], color='gold', label='Bot (realised)', ls= '--')\n",
    "if show_hodl:\n",
    "    ax2.plot(data['timestamp'], data['hodl'], color='purple', label='Hodl')\n",
    "ax2.set_xlabel('Period', fontsize=18)\n",
    "ax2.set_ylabel('Net Profits (' + name_quote + ')', fontsize=18)\n",
    "ax2.tick_params(axis='both', which='major', labelsize=12, rotation = 45)\n",
    "\n",
    "print(f\" \\n\\n      ** Profits ** \\n\")\n",
    "print(f\" > Period: {data['timestamp'].iloc[0]} -> {data['timestamp'].iloc[-1]} \")\n",
    "print(f\" > Starting balance: {initial_capital} {name_quote}\")\n",
    "print(f\" > Final balance Bot: {round(data.iloc[-1]['unrealised_pnl'],2)} {name_quote}\")\n",
    "print(f\" > Final balance Hodl: {round(data.iloc[-1]['hodl'],2)} {name_quote}\")\n",
    "print(f\" > Bot net profits: {round(profit_bot_unrealised.iloc[-1],2)}%\")\n",
    "print(f\" > Hodl net profits: {round(profit_hodl.iloc[-1],2)}%\")\n",
    "print(f\" > Net profits ratio Bot / Hodl: {round(data.iloc[-1]['unrealised_pnl']/data.iloc[-1]['hodl'],2)}\")\n",
    "\n",
    "\n",
    "## Trades\n",
    "orders = pd.json_normalize(orders, sep='_')\n",
    "n_orders = len(orders.index)\n",
    "if not ignore_longs:\n",
    "    n_longs = orders['type'].value_counts()['long entry']\n",
    "else:\n",
    "    n_longs = 0\n",
    "if not ignore_shorts:\n",
    "    n_shorts = orders['type'].value_counts()['short entry']\n",
    "else:\n",
    "    n_shorts = 0\n",
    "n_entry_orders = 0\n",
    "if not ignore_longs:\n",
    "    n_entry_orders += orders['type'].value_counts()['long entry']\n",
    "if not ignore_shorts:\n",
    "    n_entry_orders += orders['type'].value_counts()['short entry']\n",
    "\n",
    "n_exit_orders = 0\n",
    "if 'long exit' in orders['type'].value_counts():\n",
    "    n_exit_orders += orders['type'].value_counts()['long exit']\n",
    "if 'long tp' in orders['type'].value_counts():\n",
    "    n_exit_orders += orders['type'].value_counts()['long tp']\n",
    "if 'long sl' in orders['type'].value_counts():\n",
    "    n_exit_orders += orders['type'].value_counts()['long sl']\n",
    "if 'short exit' in orders['type'].value_counts():\n",
    "    n_exit_orders += orders['type'].value_counts()['short exit']\n",
    "if 'short tp' in orders['type'].value_counts():\n",
    "    n_exit_orders += orders['type'].value_counts()['short tp']\n",
    "if 'short sl' in orders['type'].value_counts():\n",
    "    n_exit_orders += orders['type'].value_counts()['short sl']\n",
    "\n",
    "\n",
    "orders.loc[::2, 'pnl'] = np.nan\n",
    "orders['Win'] = ''\n",
    "orders.loc[orders['pnl']>0,'Win'] = 'Yes'\n",
    "orders.loc[orders['pnl']<=0,'Win'] = 'No'\n",
    "if 'Yes' in orders['Win'].value_counts():\n",
    "    n_pos_trades = orders['Win'].value_counts()['Yes']\n",
    "else:\n",
    "    n_pos_trades = 0\n",
    "if 'No' in orders['Win'].value_counts():\n",
    "    n_neg_trades = orders['Win'].value_counts()['No']\n",
    "else:\n",
    "    n_neg_trades = 0\n",
    "\n",
    "winrate = round(n_pos_trades / (n_pos_trades+n_neg_trades) * 100,2)\n",
    "orders['pnl%'] = orders['pnl'] / (orders['wallet'] - orders['pnl'])  * 100\n",
    "avg_trades = round(orders['pnl%'].mean(),2)\n",
    "avg_pos_trades = round(orders.loc[orders['Win'] == 'Yes']['pnl%'].mean(),2)\n",
    "avg_neg_trades = round(orders.loc[orders['Win'] == 'No']['pnl%'].mean(),2)\n",
    "best_trade = orders['pnl%'].max()\n",
    "when_best_trade = orders['timestamp'][orders.loc[orders['pnl%'] == best_trade].index.tolist()[0]]\n",
    "best_trade = round(best_trade,2)\n",
    "worst_trade = orders['pnl%'].min()\n",
    "when_worst_trade = orders['timestamp'][orders.loc[orders['pnl%'] == worst_trade].index.tolist()[0]]\n",
    "worst_trade = round(worst_trade,2)\n",
    "\n",
    "print(f\" \\n      ** Trades ** \\n\")\n",
    "print(f\" > Orders: {n_orders} ({n_entry_orders} buys, {n_exit_orders} sells)\")\n",
    "print(f\" > Number of closed trades: {n_pos_trades+n_neg_trades}\")\n",
    "print(f\" > Winrate: {winrate}%\")\n",
    "print(f\" > Average trade profits: {avg_trades}%\")\n",
    "print(f\" > Number of winning trades: {n_pos_trades}\")\n",
    "print(f\" > Number of losing trades: {n_neg_trades}\")\n",
    "print(f\" > Average winning trades: {avg_pos_trades}%\")\n",
    "print(f\" > Average losing trades: {avg_neg_trades}%\")\n",
    "print(f\" > Best trade: {best_trade}% on the {when_best_trade}\")\n",
    "print(f\" > Worst trade: {worst_trade}% on the {when_worst_trade}\")\n",
    "\n",
    "\n",
    "## Health\n",
    "worst_drawdown = round(data['drawdown'].min()*100,2)\n",
    "avg_drawdown = round(data['drawdown'].mean()*100,2)\n",
    "daily_returns = data['unrealised_pnl'].pct_change()\n",
    "daily_returns = daily_returns.dropna()\n",
    "sharpe_ratio = round(np.sqrt(252) * daily_returns.mean() / daily_returns.std(),2)\n",
    "\n",
    "print(f\" \\n      ** Health ** \\n\")\n",
    "print(f\" > Maximum drawdown: {worst_drawdown}%\")\n",
    "print(f\" > Annualized Sharpe ratio: {sharpe_ratio}\")\n",
    "\n",
    "\n",
    "## fees\n",
    "total_fee = round(orders['fee'].sum(),2)\n",
    "biggest_fee = round(orders['fee'].max(),2)\n",
    "avg_fee = round(orders['fee'].mean(),2)\n",
    "\n",
    "print(f\" \\n      ** Fees ** \\n\")\n",
    "print(f\" > Total: {total_fee} {name_quote}\")\n",
    "print(f\" > Biggest: {biggest_fee} {name_quote}\")\n",
    "print(f\" > Average: {avg_fee} {name_quote} \\n\")"
   ]
  }
 ],
 "metadata": {
  "colab": {
   "provenance": []
  },
  "kernelspec": {
   "display_name": "Python 3 (ipykernel)",
   "language": "python",
   "name": "python3"
  },
  "language_info": {
   "codemirror_mode": {
    "name": "ipython",
    "version": 3
   },
   "file_extension": ".py",
   "mimetype": "text/x-python",
   "name": "python",
   "nbconvert_exporter": "python",
   "pygments_lexer": "ipython3",
   "version": "3.10.6"
  }
 },
 "nbformat": 4,
 "nbformat_minor": 1
}
