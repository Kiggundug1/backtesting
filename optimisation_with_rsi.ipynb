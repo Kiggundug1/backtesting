{
 "cells": [
  {
   "cell_type": "markdown",
   "metadata": {
    "id": "dcxb2PQtUE8V"
   },
   "source": [
    "**<h1>Setup and data processing<h1>**\n",
    "\n",
    "---\n",
    "\n"
   ]
  },
  {
   "cell_type": "markdown",
   "metadata": {
    "id": "Ni0tCgXTSQL9"
   },
   "source": [
    "<h3>Package installation<h3>\n"
   ]
  },
  {
   "cell_type": "code",
   "execution_count": null,
   "metadata": {
    "colab": {
     "base_uri": "https://localhost:8080/"
    },
    "id": "FQpoFECiJiLG",
    "outputId": "06f40649-f47b-4164-dbd3-ec74a2f38e73"
   },
   "outputs": [],
   "source": [
    "%pip install pandas\n",
    "%pip install python-binance\n",
    "%pip install ta\n",
    "%pip install matplotlib\n",
    "%pip install numpy"
   ]
  },
  {
   "cell_type": "markdown",
   "metadata": {
    "id": "G3kKKxoL1xNo"
   },
   "source": [
    "<h3>Imports<h3>"
   ]
  },
  {
   "cell_type": "code",
   "execution_count": null,
   "metadata": {
    "id": "ix8j_V3gWOt5"
   },
   "outputs": [],
   "source": [
    "import pandas as pd\n",
    "from binance.client import Client\n",
    "import ta\n",
    "import matplotlib.pyplot as plt\n",
    "import numpy as np\n",
    "from matplotlib import cm"
   ]
  },
  {
   "cell_type": "markdown",
   "metadata": {
    "id": "VLyBtxe4Xn6U"
   },
   "source": [
    "<h3>Specs<h3>"
   ]
  },
  {
   "cell_type": "code",
   "execution_count": null,
   "metadata": {
    "id": "-Ox7M5AMXn6V"
   },
   "outputs": [],
   "source": [
    "name_base = \"ETH\"\n",
    "name_quote = \"USDT\"\n",
    "timeframe = \"1d\"\n",
    "\n",
    "starting_date = \"01 january 2017\"\n",
    "ending_date = None\n",
    "\n",
    "initial_wallet = 1000\n",
    "trade_fees = 0.001"
   ]
  },
  {
   "cell_type": "markdown",
   "metadata": {
    "id": "BEmSeIfaXn6V"
   },
   "source": [
    "<h3>Binance data<h3>"
   ]
  },
  {
   "cell_type": "code",
   "execution_count": null,
   "metadata": {
    "colab": {
     "base_uri": "https://localhost:8080/",
     "height": 417
    },
    "id": "hjRUhkHYXn6W",
    "outputId": "dafad31c-3d5d-4c6f-8b8d-4d4f142b667a"
   },
   "outputs": [],
   "source": [
    "# download the coin info\n",
    "symbol = name_base+name_quote\n",
    "info = Client().get_historical_klines(symbol, timeframe, starting_date)\n",
    "# storing it into a pandas data frame\n",
    "data_dl = pd.DataFrame(info, columns = ['timestamp', 'open', 'high', 'low', 'close', 'volume', 'close_time', 'quote_av', 'trades', 'tb_base_av', 'tb_quote_av', 'ignore' ])\n",
    "data_dl"
   ]
  },
  {
   "cell_type": "code",
   "execution_count": null,
   "metadata": {
    "id": "I9G3zQHXXn6Y"
   },
   "outputs": [],
   "source": [
    "# keeping only the necessary columns\n",
    "data_dl.drop(columns=data_dl.columns.difference(['timestamp','close']), inplace=True)\n",
    "# formating the index\n",
    "data_dl.set_index(data_dl['timestamp'], inplace=True)\n",
    "data_dl.index = pd.to_datetime(data_dl.index, unit='ms')\n",
    "del data_dl['timestamp']\n",
    "# formating the numbers\n",
    "data_dl[\"close\"] = pd.to_numeric(data_dl[\"close\"])\n",
    "data_dl"
   ]
  },
  {
   "cell_type": "markdown",
   "metadata": {
    "id": "spLsnfE7VPXd"
   },
   "source": [
    "**<h1>Optimisation<h1>**\n",
    "\n",
    "\n",
    "---"
   ]
  },
  {
   "cell_type": "markdown",
   "metadata": {
    "id": "gWPQerOHVZ1-"
   },
   "source": [
    "<h3>Buy-Sell condition functions<h3>"
   ]
  },
  {
   "cell_type": "code",
   "execution_count": null,
   "metadata": {
    "id": "XigXi4AQXn6f"
   },
   "outputs": [],
   "source": [
    "data_dl['RSI'] = ta.momentum.rsi(data_dl['close'])\n",
    "\n",
    "\n",
    "def buy_condition(row, previous_row):\n",
    "    return row['MAs'] > row['MAl'] and row['RSI'] < 70\n",
    "    \n",
    "def sell_condition(row, previous_row):\n",
    "    return row['MAs'] < row['MAl'] and row['RSI'] > 30"
   ]
  },
  {
   "cell_type": "markdown",
   "metadata": {
    "id": "l47iU_h7Vjyy"
   },
   "source": [
    "<h3>Loop<h3>"
   ]
  },
  {
   "cell_type": "code",
   "execution_count": null,
   "metadata": {
    "id": "OhFGynkSXn6f"
   },
   "outputs": [],
   "source": [
    "array_mas = np.linspace(1, 30, int((30-1)/1+1), dtype=int)\n",
    "array_mal = np.linspace(10, 40, int((40-10)/1+1), dtype=int)\n",
    "\n",
    "results = []\n",
    "for mas in array_mas:\n",
    "    for mal in array_mal:\n",
    "        if mal > mas:\n",
    "            \n",
    "            ### indicators\n",
    "            data = data_dl.copy()\n",
    "            data['MAs'] = ta.trend.ema_indicator(data['close'], mas)\n",
    "            data['MAl'] = ta.trend.ema_indicator(data['close'], mal)\n",
    "            data.dropna(inplace=True)\n",
    "\n",
    "            ### initialisations\n",
    "            quote = initial_wallet\n",
    "            base = 0\n",
    "            orders = []\n",
    "            data['wallet'] = ''\n",
    "            last_ath = 0\n",
    "            previous_row = data.iloc[0]\n",
    "\n",
    "            ### backtest loop\n",
    "            for index, row in data.iterrows():\n",
    "\n",
    "                value = row['close']\n",
    "\n",
    "                # buy\n",
    "                if buy_condition(row, previous_row) and quote > 0:\n",
    "                    base = quote / value\n",
    "                    fee = base * trade_fees\n",
    "                    base -= fee\n",
    "                    fee *= value\n",
    "                    quote = 0\n",
    "                    wallet = base * value\n",
    "\n",
    "                    if wallet > last_ath:\n",
    "                        last_ath = wallet\n",
    "\n",
    "                    orders.append({'side': 'buy',\n",
    "                                   'wallet': wallet,\n",
    "                                   'fee': fee,\n",
    "                                   'drawdown': (wallet - last_ath) / last_ath,\n",
    "                                   })\n",
    "\n",
    "                # sell\n",
    "                elif sell_condition(row, previous_row) and base > 0:\n",
    "                    quote = base * value\n",
    "                    fee = quote * trade_fees\n",
    "                    quote -= fee\n",
    "                    base = 0\n",
    "                    wallet = quote\n",
    "\n",
    "                    if wallet > last_ath:\n",
    "                        last_ath = wallet\n",
    "\n",
    "                    orders.append({'side': 'sell',\n",
    "                                   'wallet': wallet,\n",
    "                                   'fee': fee,\n",
    "                                   'drawdown': (wallet - last_ath) / last_ath,\n",
    "                                   })\n",
    "                    \n",
    "                # tracking the wallet value\n",
    "                if quote == 0:\n",
    "                    data.at[index, 'wallet'] = base * value\n",
    "                else:\n",
    "                    data.at[index, 'wallet'] = quote\n",
    "\n",
    "                previous_row = row\n",
    "\n",
    "\n",
    "            ### analysing the trades\n",
    "            orders = pd.DataFrame(orders, columns=['side', 'wallet', 'fee', 'drawdown'])\n",
    "            orders['PnL%'] = orders['wallet'].pct_change()*100\n",
    "            orders.at[0, 'PnL%'] = (orders.iloc[0]['wallet']-initial_wallet)/initial_wallet*100\n",
    "            orders.loc[orders['side']=='buy','PnL%'] = None\n",
    "            orders['Win'] = ''\n",
    "            orders.loc[orders['PnL%']>0,'Win'] = 'Yes'\n",
    "            orders.loc[orders['PnL%']<=0,'Win'] = 'No'\n",
    "            if 'No' in orders['Win'].values and 'Yes' in orders['Win'].values:\n",
    "                n_pos = orders['Win'].value_counts()['Yes']\n",
    "                n_neg = orders['Win'].value_counts()['No']\n",
    "                n_trades = n_neg + n_pos\n",
    "                winrate = n_pos / n_trades * 100\n",
    "            elif 'No' not in orders['Win'].values and 'Yes' not in orders['Win'].values:\n",
    "                n_trades = 0\n",
    "                winrate = 0\n",
    "            elif 'Yes' not in orders['Win'].values:\n",
    "                n_trades = orders['Win'].value_counts()['No']\n",
    "            else:\n",
    "                n_trades = orders['Win'].value_counts()['Yes']\n",
    "                winrate = 100\n",
    "\n",
    "            res = {\n",
    "                  'mas': mas,\n",
    "                  'mal': mal,\n",
    "                  'wallet': data.iloc[-1]['wallet'],\n",
    "                  'profits': 100 * (data.iloc[-1]['wallet']-initial_wallet)/initial_wallet,\n",
    "                  'ntrades': round(n_trades,1),\n",
    "                  'winrate': winrate,\n",
    "                  'avg_wins': round(orders.loc[orders['Win'] == 'Yes']['PnL%'].mean(),2),\n",
    "                  'avg_loses': round(orders.loc[orders['Win'] == 'No']['PnL%'].mean(),2),\n",
    "                  'drawdown_max': round(orders['drawdown'].min()*100,2),\n",
    "                  'fee':round(orders['fee'].sum(),2),\n",
    "            }\n",
    "            results.append(res)\n",
    "\n",
    "            print(f\"MA-st = {res['mas']}; MA-lt = {res['mal']}; Profits = {round(res['profits'],2)}%\")\n",
    "\n",
    " "
   ]
  },
  {
   "cell_type": "markdown",
   "metadata": {
    "id": "AiJZXf662rG9"
   },
   "source": [
    "**<h1>Results<h1>**\n",
    "\n",
    "\n",
    "---\n",
    "\n"
   ]
  },
  {
   "cell_type": "code",
   "execution_count": null,
   "metadata": {
    "id": "p05QRxI0ZZQK"
   },
   "outputs": [],
   "source": [
    "# results into a dataframe\n",
    "results = pd.DataFrame(results, columns=['mas', 'mal', 'wallet', 'profits', 'ntrades', 'winrate', 'avg_wins', 'avg_loses', 'drawdown_max', 'fee'])\n",
    "\n",
    "# color map for plots\n",
    "cmap_reversed = cm.get_cmap('PuOr_r')"
   ]
  },
  {
   "cell_type": "markdown",
   "metadata": {
    "id": "hpPcReDEYcoc"
   },
   "source": [
    "<h3>Profits<h3>"
   ]
  },
  {
   "cell_type": "code",
   "execution_count": null,
   "metadata": {
    "id": "ihXSgCneZqFD"
   },
   "outputs": [],
   "source": [
    "# number of trades\n",
    "plt.figure(figsize=(6, 4))\n",
    "sc = plt.scatter(results[\"mas\"], results[\"mal\"], c=results[\"ntrades\"], cmap=cmap_reversed, s=25)\n",
    "plt.xlabel(\"Short term EMA\", fontsize=22)\n",
    "plt.ylabel(\"Long term EMA\", fontsize=22)\n",
    "plt.yticks(fontsize=13)\n",
    "plt.xticks(fontsize=13)\n",
    "cb = plt.colorbar(sc)\n",
    "cb.set_label(label = 'N trades', fontsize=22)\n",
    "cb.ax.tick_params(labelsize=13)\n",
    "plt.clim(0,200)\n",
    "plt.tight_layout()\n",
    "\n",
    "# profits\n",
    "plt.figure(figsize=(6, 4))\n",
    "sc = plt.scatter(results[\"mas\"], results[\"mal\"], c=results['profits'], cmap=cmap_reversed, s=25)\n",
    "plt.xlabel(\"Short term EMA\", fontsize=22)\n",
    "plt.ylabel(\"Long term EMA\", fontsize=22)\n",
    "plt.yticks(fontsize=13)\n",
    "plt.xticks(fontsize=13)\n",
    "cb = plt.colorbar(sc)\n",
    "cb.set_label(label = 'Profits (%)', fontsize=22)\n",
    "cb.ax.tick_params(labelsize=13)\n",
    "plt.clim(0,8000)\n",
    "plt.tight_layout()\n",
    "\n",
    "# wallet\n",
    "plt.figure(figsize=(6, 4))\n",
    "sc = plt.scatter(results[\"mas\"], results[\"mal\"], c=results[\"wallet\"], cmap=cmap_reversed, s=25)\n",
    "plt.xlabel(\"Short term EMA\", fontsize=22)\n",
    "plt.ylabel(\"Long term EMA\", fontsize=22)\n",
    "plt.yticks(fontsize=13)\n",
    "plt.xticks(fontsize=13)\n",
    "cb = plt.colorbar(sc)\n",
    "cb.set_label(label = f'Wallet {name_quote}', fontsize=22)\n",
    "cb.ax.tick_params(labelsize=13)\n",
    "plt.clim(0,80000)\n",
    "plt.tight_layout()"
   ]
  },
  {
   "cell_type": "markdown",
   "metadata": {
    "id": "4-TEbCKuYhIT"
   },
   "source": [
    "<h3>Winrate<h3>"
   ]
  },
  {
   "cell_type": "code",
   "execution_count": null,
   "metadata": {
    "id": "r_wIy1YqYoGB"
   },
   "outputs": [],
   "source": [
    "# winrate\n",
    "plt.figure(figsize=(6, 4))\n",
    "sc = plt.scatter(results[\"mas\"], results[\"mal\"], c=results[\"winrate\"], cmap=cmap_reversed, s=25)\n",
    "plt.xlabel(\"Short term EMA\", fontsize=22)\n",
    "plt.ylabel(\"Long term EMA\", fontsize=22)\n",
    "plt.yticks(fontsize=13)\n",
    "plt.xticks(fontsize=13)\n",
    "cb = plt.colorbar(sc)\n",
    "cb.set_label(label = 'Winrate (%)', fontsize=22)\n",
    "cb.ax.tick_params(labelsize=13)\n",
    "plt.clim(20,60)\n",
    "plt.tight_layout()\n",
    "\n",
    "# average winning trades profits \n",
    "plt.figure(figsize=(6, 4))\n",
    "sc = plt.scatter(results[\"mas\"], results[\"mal\"], c=results[\"avg_wins\"], cmap=cmap_reversed, s=25)\n",
    "plt.xlabel(\"Short term EMA\", fontsize=22)\n",
    "plt.ylabel(\"Long term EMA\", fontsize=22)\n",
    "plt.yticks(fontsize=13)\n",
    "plt.xticks(fontsize=13)\n",
    "cb = plt.colorbar(sc)\n",
    "cb.set_label(label = 'Average Win Profits(%)', fontsize=22)\n",
    "cb.ax.tick_params(labelsize=13)\n",
    "plt.clim(0,200)\n",
    "plt.tight_layout()\n",
    "\n",
    "# average loosing trades loses\n",
    "plt.figure(figsize=(6, 4))\n",
    "sc = plt.scatter(results[\"mas\"], results[\"mal\"], c=results[\"avg_loses\"], cmap=cmap_reversed, s=25)\n",
    "plt.xlabel(\"Short term EMA\", fontsize=22)\n",
    "plt.ylabel(\"Long term EMA\", fontsize=22)\n",
    "plt.yticks(fontsize=13)\n",
    "plt.xticks(fontsize=13)\n",
    "cb = plt.colorbar(sc)\n",
    "cb.set_label(label = 'Average Lose Loses (%)', fontsize=22)\n",
    "cb.ax.tick_params(labelsize=13)\n",
    "plt.clim(-18,-2)\n",
    "plt.tight_layout()"
   ]
  },
  {
   "cell_type": "markdown",
   "metadata": {
    "id": "U23uWV-UZDAP"
   },
   "source": [
    "<h3>Worst Drawdown<h3>"
   ]
  },
  {
   "cell_type": "code",
   "execution_count": null,
   "metadata": {
    "id": "EbHqlXQiZAGC"
   },
   "outputs": [],
   "source": [
    "plt.figure(figsize=(6, 4))\n",
    "sc = plt.scatter(results[\"mas\"], results[\"mal\"], c=results[\"drawdown_max\"], cmap=cmap_reversed, s=25)\n",
    "plt.xlabel(\"Short term EMA\", fontsize=22)\n",
    "plt.ylabel(\"Long term EMA\", fontsize=22)\n",
    "plt.yticks(fontsize=13)\n",
    "plt.xticks(fontsize=13)\n",
    "cb = plt.colorbar(sc)\n",
    "cb.set_label(label = 'Worst drawdown (%)', fontsize=22)\n",
    "cb.ax.tick_params(labelsize=13)\n",
    "plt.clim(-80,-20)\n",
    "plt.tight_layout()"
   ]
  },
  {
   "cell_type": "markdown",
   "metadata": {
    "id": "jN3YlwkTZOpv"
   },
   "source": [
    "<h3>Fees<h3>"
   ]
  },
  {
   "cell_type": "code",
   "execution_count": null,
   "metadata": {
    "id": "w2Hi7NnEZOb9"
   },
   "outputs": [],
   "source": [
    "plt.figure(figsize=(6, 4))\n",
    "sc = plt.scatter(results[\"mas\"], results[\"mal\"], c=results[\"fee\"], cmap=cmap_reversed, s=25)\n",
    "plt.xlabel(\"Short term EMA\", fontsize=22)\n",
    "plt.ylabel(\"Long term EMA\", fontsize=22)\n",
    "plt.yticks(fontsize=13)\n",
    "plt.xticks(fontsize=13)\n",
    "cb = plt.colorbar(sc)\n",
    "cb.set_label(label = f'Fees {name_quote}', fontsize=22)\n",
    "cb.ax.tick_params(labelsize=13)\n",
    "plt.clim(200,2500)\n",
    "plt.tight_layout()"
   ]
  },
  {
   "cell_type": "code",
   "execution_count": null,
   "metadata": {
    "id": "f6d9SSPWZe0C"
   },
   "outputs": [],
   "source": []
  }
 ],
 "metadata": {
  "colab": {
   "provenance": []
  },
  "kernelspec": {
   "display_name": "Python 3 (ipykernel)",
   "language": "python",
   "name": "python3"
  },
  "language_info": {
   "codemirror_mode": {
    "name": "ipython",
    "version": 3
   },
   "file_extension": ".py",
   "mimetype": "text/x-python",
   "name": "python",
   "nbconvert_exporter": "python",
   "pygments_lexer": "ipython3",
   "version": "3.10.6"
  }
 },
 "nbformat": 4,
 "nbformat_minor": 1
}
